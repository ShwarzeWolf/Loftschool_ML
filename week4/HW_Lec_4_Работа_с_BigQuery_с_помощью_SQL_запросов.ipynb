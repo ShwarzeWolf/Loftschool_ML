{
 "cells": [
  {
   "cell_type": "markdown",
   "id": "a8208c4f",
   "metadata": {},
   "source": [
    "# Домашнее задание.\n",
    "### Работа с BigQuery с помощью SQL запросов\n",
    "\n",
    "Сначала подготовим среду для работы с BigQuery, далее к решению предлагаются задачи"
   ]
  },
  {
   "cell_type": "code",
   "execution_count": 4,
   "id": "e3671b8f",
   "metadata": {},
   "outputs": [],
   "source": [
    "import os\n",
    "\n",
    "# тут должен быть путь к вашему ключу\n",
    "import pandas as pd\n",
    "\n",
    "os.environ[\"GOOGLE_APPLICATION_CREDENTIALS\"]= \\\n",
    "\"loftschoolstudy-cf739a23cdf0.json\""
   ]
  },
  {
   "cell_type": "code",
   "execution_count": 2,
   "id": "b086e42f",
   "metadata": {},
   "outputs": [
    {
     "name": "stdout",
     "output_type": "stream",
     "text": [
      "Requirement already satisfied: google-cloud-core in c:\\users\\bkris\\appdata\\local\\programs\\python\\python310\\lib\\site-packages (2.3.0)\n",
      "Requirement already satisfied: google-api-core!=2.0.*,!=2.1.*,!=2.2.*,!=2.3.0,<3.0.0dev,>=1.31.5 in c:\\users\\bkris\\appdata\\local\\programs\\python\\python310\\lib\\site-packages (from google-cloud-core) (2.7.2)\n",
      "Requirement already satisfied: google-auth<3.0dev,>=1.25.0 in c:\\users\\bkris\\appdata\\local\\programs\\python\\python310\\lib\\site-packages (from google-cloud-core) (1.35.0)\n",
      "Requirement already satisfied: googleapis-common-protos<2.0dev,>=1.52.0 in c:\\users\\bkris\\appdata\\local\\programs\\python\\python310\\lib\\site-packages (from google-api-core!=2.0.*,!=2.1.*,!=2.2.*,!=2.3.0,<3.0.0dev,>=1.31.5->google-cloud-core) (1.56.0)\n",
      "Requirement already satisfied: protobuf>=3.12.0 in c:\\users\\bkris\\appdata\\local\\programs\\python\\python310\\lib\\site-packages (from google-api-core!=2.0.*,!=2.1.*,!=2.2.*,!=2.3.0,<3.0.0dev,>=1.31.5->google-cloud-core) (3.20.1)\n",
      "Requirement already satisfied: requests<3.0.0dev,>=2.18.0 in c:\\users\\bkris\\appdata\\local\\programs\\python\\python310\\lib\\site-packages (from google-api-core!=2.0.*,!=2.1.*,!=2.2.*,!=2.3.0,<3.0.0dev,>=1.31.5->google-cloud-core) (2.27.1)\n",
      "Requirement already satisfied: rsa<5,>=3.1.4 in c:\\users\\bkris\\appdata\\local\\programs\\python\\python310\\lib\\site-packages (from google-auth<3.0dev,>=1.25.0->google-cloud-core) (4.8)\n",
      "Requirement already satisfied: cachetools<5.0,>=2.0.0 in c:\\users\\bkris\\appdata\\local\\programs\\python\\python310\\lib\\site-packages (from google-auth<3.0dev,>=1.25.0->google-cloud-core) (4.2.4)\n",
      "Requirement already satisfied: pyasn1-modules>=0.2.1 in c:\\users\\bkris\\appdata\\local\\programs\\python\\python310\\lib\\site-packages (from google-auth<3.0dev,>=1.25.0->google-cloud-core) (0.2.8)\n",
      "Requirement already satisfied: six>=1.9.0 in c:\\users\\bkris\\appdata\\local\\programs\\python\\python310\\lib\\site-packages (from google-auth<3.0dev,>=1.25.0->google-cloud-core) (1.16.0)\n",
      "Requirement already satisfied: setuptools>=40.3.0 in c:\\users\\bkris\\appdata\\local\\programs\\python\\python310\\lib\\site-packages (from google-auth<3.0dev,>=1.25.0->google-cloud-core) (58.1.0)\n",
      "Requirement already satisfied: pyasn1<0.5.0,>=0.4.6 in c:\\users\\bkris\\appdata\\local\\programs\\python\\python310\\lib\\site-packages (from pyasn1-modules>=0.2.1->google-auth<3.0dev,>=1.25.0->google-cloud-core) (0.4.8)\n",
      "Requirement already satisfied: urllib3<1.27,>=1.21.1 in c:\\users\\bkris\\appdata\\local\\programs\\python\\python310\\lib\\site-packages (from requests<3.0.0dev,>=2.18.0->google-api-core!=2.0.*,!=2.1.*,!=2.2.*,!=2.3.0,<3.0.0dev,>=1.31.5->google-cloud-core) (1.26.9)\n",
      "Requirement already satisfied: charset-normalizer~=2.0.0 in c:\\users\\bkris\\appdata\\local\\programs\\python\\python310\\lib\\site-packages (from requests<3.0.0dev,>=2.18.0->google-api-core!=2.0.*,!=2.1.*,!=2.2.*,!=2.3.0,<3.0.0dev,>=1.31.5->google-cloud-core) (2.0.12)\n",
      "Requirement already satisfied: idna<4,>=2.5 in c:\\users\\bkris\\appdata\\local\\programs\\python\\python310\\lib\\site-packages (from requests<3.0.0dev,>=2.18.0->google-api-core!=2.0.*,!=2.1.*,!=2.2.*,!=2.3.0,<3.0.0dev,>=1.31.5->google-cloud-core) (3.3)\n",
      "Requirement already satisfied: certifi>=2017.4.17 in c:\\users\\bkris\\appdata\\local\\programs\\python\\python310\\lib\\site-packages (from requests<3.0.0dev,>=2.18.0->google-api-core!=2.0.*,!=2.1.*,!=2.2.*,!=2.3.0,<3.0.0dev,>=1.31.5->google-cloud-core) (2021.10.8)\n",
      "Requirement already satisfied: google-cloud-storage in c:\\users\\bkris\\appdata\\local\\programs\\python\\python310\\lib\\site-packages (2.3.0)\n",
      "Requirement already satisfied: protobuf in c:\\users\\bkris\\appdata\\local\\programs\\python\\python310\\lib\\site-packages (from google-cloud-storage) (3.20.1)\n",
      "Requirement already satisfied: google-resumable-media>=2.3.2 in c:\\users\\bkris\\appdata\\local\\programs\\python\\python310\\lib\\site-packages (from google-cloud-storage) (2.3.2)\n",
      "Requirement already satisfied: google-auth<3.0dev,>=1.25.0 in c:\\users\\bkris\\appdata\\local\\programs\\python\\python310\\lib\\site-packages (from google-cloud-storage) (1.35.0)\n",
      "Requirement already satisfied: google-api-core!=2.0.*,!=2.1.*,!=2.2.*,!=2.3.0,<3.0.0dev,>=1.31.5 in c:\\users\\bkris\\appdata\\local\\programs\\python\\python310\\lib\\site-packages (from google-cloud-storage) (2.7.2)\n",
      "Requirement already satisfied: requests<3.0.0dev,>=2.18.0 in c:\\users\\bkris\\appdata\\local\\programs\\python\\python310\\lib\\site-packages (from google-cloud-storage) (2.27.1)\n",
      "Requirement already satisfied: google-cloud-core<3.0dev,>=2.3.0 in c:\\users\\bkris\\appdata\\local\\programs\\python\\python310\\lib\\site-packages (from google-cloud-storage) (2.3.0)\n",
      "Requirement already satisfied: googleapis-common-protos<2.0dev,>=1.52.0 in c:\\users\\bkris\\appdata\\local\\programs\\python\\python310\\lib\\site-packages (from google-api-core!=2.0.*,!=2.1.*,!=2.2.*,!=2.3.0,<3.0.0dev,>=1.31.5->google-cloud-storage) (1.56.0)\n",
      "Requirement already satisfied: six>=1.9.0 in c:\\users\\bkris\\appdata\\local\\programs\\python\\python310\\lib\\site-packages (from google-auth<3.0dev,>=1.25.0->google-cloud-storage) (1.16.0)\n",
      "Requirement already satisfied: cachetools<5.0,>=2.0.0 in c:\\users\\bkris\\appdata\\local\\programs\\python\\python310\\lib\\site-packages (from google-auth<3.0dev,>=1.25.0->google-cloud-storage) (4.2.4)\n",
      "Requirement already satisfied: setuptools>=40.3.0 in c:\\users\\bkris\\appdata\\local\\programs\\python\\python310\\lib\\site-packages (from google-auth<3.0dev,>=1.25.0->google-cloud-storage) (58.1.0)\n",
      "Requirement already satisfied: pyasn1-modules>=0.2.1 in c:\\users\\bkris\\appdata\\local\\programs\\python\\python310\\lib\\site-packages (from google-auth<3.0dev,>=1.25.0->google-cloud-storage) (0.2.8)\n",
      "Requirement already satisfied: rsa<5,>=3.1.4 in c:\\users\\bkris\\appdata\\local\\programs\\python\\python310\\lib\\site-packages (from google-auth<3.0dev,>=1.25.0->google-cloud-storage) (4.8)\n",
      "Requirement already satisfied: google-crc32c<2.0dev,>=1.0 in c:\\users\\bkris\\appdata\\local\\programs\\python\\python310\\lib\\site-packages (from google-resumable-media>=2.3.2->google-cloud-storage) (1.3.0)\n",
      "Requirement already satisfied: certifi>=2017.4.17 in c:\\users\\bkris\\appdata\\local\\programs\\python\\python310\\lib\\site-packages (from requests<3.0.0dev,>=2.18.0->google-cloud-storage) (2021.10.8)\n",
      "Requirement already satisfied: urllib3<1.27,>=1.21.1 in c:\\users\\bkris\\appdata\\local\\programs\\python\\python310\\lib\\site-packages (from requests<3.0.0dev,>=2.18.0->google-cloud-storage) (1.26.9)\n",
      "Requirement already satisfied: idna<4,>=2.5 in c:\\users\\bkris\\appdata\\local\\programs\\python\\python310\\lib\\site-packages (from requests<3.0.0dev,>=2.18.0->google-cloud-storage) (3.3)\n",
      "Requirement already satisfied: charset-normalizer~=2.0.0 in c:\\users\\bkris\\appdata\\local\\programs\\python\\python310\\lib\\site-packages (from requests<3.0.0dev,>=2.18.0->google-cloud-storage) (2.0.12)\n",
      "Requirement already satisfied: pyasn1<0.5.0,>=0.4.6 in c:\\users\\bkris\\appdata\\local\\programs\\python\\python310\\lib\\site-packages (from pyasn1-modules>=0.2.1->google-auth<3.0dev,>=1.25.0->google-cloud-storage) (0.4.8)\n",
      "Requirement already satisfied: google-cloud-bigquery in c:\\users\\bkris\\appdata\\local\\programs\\python\\python310\\lib\\site-packages (2.34.1)\n",
      "Collecting google-cloud-bigquery\n",
      "  Using cached google_cloud_bigquery-3.0.1-py2.py3-none-any.whl (210 kB)\n",
      "Requirement already satisfied: pyarrow<8.0dev,>=3.0.0 in c:\\users\\bkris\\appdata\\local\\programs\\python\\python310\\lib\\site-packages (from google-cloud-bigquery) (7.0.0)\n",
      "Requirement already satisfied: requests<3.0.0dev,>=2.18.0 in c:\\users\\bkris\\appdata\\local\\programs\\python\\python310\\lib\\site-packages (from google-cloud-bigquery) (2.27.1)\n",
      "Requirement already satisfied: grpcio<2.0dev,>=1.38.1 in c:\\users\\bkris\\appdata\\local\\programs\\python\\python310\\lib\\site-packages (from google-cloud-bigquery) (1.44.0)\n",
      "Requirement already satisfied: protobuf>=3.12.0 in c:\\users\\bkris\\appdata\\local\\programs\\python\\python310\\lib\\site-packages (from google-cloud-bigquery) (3.20.1)\n",
      "Requirement already satisfied: google-resumable-media<3.0dev,>=0.6.0 in c:\\users\\bkris\\appdata\\local\\programs\\python\\python310\\lib\\site-packages (from google-cloud-bigquery) (2.3.2)\n",
      "Requirement already satisfied: google-cloud-bigquery-storage<3.0.0dev,>=2.0.0 in c:\\users\\bkris\\appdata\\local\\programs\\python\\python310\\lib\\site-packages (from google-cloud-bigquery) (2.13.1)\n",
      "Requirement already satisfied: packaging>=14.3 in c:\\users\\bkris\\appdata\\local\\programs\\python\\python310\\lib\\site-packages (from google-cloud-bigquery) (21.3)\n",
      "Requirement already satisfied: python-dateutil<3.0dev,>=2.7.2 in c:\\users\\bkris\\appdata\\local\\programs\\python\\python310\\lib\\site-packages (from google-cloud-bigquery) (2.8.2)\n",
      "Requirement already satisfied: google-api-core[grpc]!=2.0.*,!=2.1.*,!=2.2.*,!=2.3.0,<3.0.0dev,>=1.31.5 in c:\\users\\bkris\\appdata\\local\\programs\\python\\python310\\lib\\site-packages (from google-cloud-bigquery) (2.7.2)\n",
      "Requirement already satisfied: proto-plus>=1.15.0 in c:\\users\\bkris\\appdata\\local\\programs\\python\\python310\\lib\\site-packages (from google-cloud-bigquery) (1.20.3)\n",
      "Requirement already satisfied: google-cloud-core<3.0.0dev,>=1.4.1 in c:\\users\\bkris\\appdata\\local\\programs\\python\\python310\\lib\\site-packages (from google-cloud-bigquery) (2.3.0)\n",
      "Requirement already satisfied: google-auth<3.0dev,>=1.25.0 in c:\\users\\bkris\\appdata\\local\\programs\\python\\python310\\lib\\site-packages (from google-api-core[grpc]!=2.0.*,!=2.1.*,!=2.2.*,!=2.3.0,<3.0.0dev,>=1.31.5->google-cloud-bigquery) (1.35.0)\n",
      "Requirement already satisfied: googleapis-common-protos<2.0dev,>=1.52.0 in c:\\users\\bkris\\appdata\\local\\programs\\python\\python310\\lib\\site-packages (from google-api-core[grpc]!=2.0.*,!=2.1.*,!=2.2.*,!=2.3.0,<3.0.0dev,>=1.31.5->google-cloud-bigquery) (1.56.0)\n",
      "Requirement already satisfied: grpcio-status<2.0dev,>=1.33.2 in c:\\users\\bkris\\appdata\\local\\programs\\python\\python310\\lib\\site-packages (from google-api-core[grpc]!=2.0.*,!=2.1.*,!=2.2.*,!=2.3.0,<3.0.0dev,>=1.31.5->google-cloud-bigquery) (1.44.0)\n",
      "Requirement already satisfied: google-crc32c<2.0dev,>=1.0 in c:\\users\\bkris\\appdata\\local\\programs\\python\\python310\\lib\\site-packages (from google-resumable-media<3.0dev,>=0.6.0->google-cloud-bigquery) (1.3.0)\n",
      "Requirement already satisfied: six>=1.5.2 in c:\\users\\bkris\\appdata\\local\\programs\\python\\python310\\lib\\site-packages (from grpcio<2.0dev,>=1.38.1->google-cloud-bigquery) (1.16.0)\n",
      "Requirement already satisfied: pyparsing!=3.0.5,>=2.0.2 in c:\\users\\bkris\\appdata\\local\\programs\\python\\python310\\lib\\site-packages (from packaging>=14.3->google-cloud-bigquery) (3.0.8)\n",
      "Requirement already satisfied: numpy>=1.16.6 in c:\\users\\bkris\\appdata\\local\\programs\\python\\python310\\lib\\site-packages (from pyarrow<8.0dev,>=3.0.0->google-cloud-bigquery) (1.22.3)\n",
      "Requirement already satisfied: certifi>=2017.4.17 in c:\\users\\bkris\\appdata\\local\\programs\\python\\python310\\lib\\site-packages (from requests<3.0.0dev,>=2.18.0->google-cloud-bigquery) (2021.10.8)\n",
      "Requirement already satisfied: urllib3<1.27,>=1.21.1 in c:\\users\\bkris\\appdata\\local\\programs\\python\\python310\\lib\\site-packages (from requests<3.0.0dev,>=2.18.0->google-cloud-bigquery) (1.26.9)\n",
      "Requirement already satisfied: charset-normalizer~=2.0.0 in c:\\users\\bkris\\appdata\\local\\programs\\python\\python310\\lib\\site-packages (from requests<3.0.0dev,>=2.18.0->google-cloud-bigquery) (2.0.12)\n",
      "Requirement already satisfied: idna<4,>=2.5 in c:\\users\\bkris\\appdata\\local\\programs\\python\\python310\\lib\\site-packages (from requests<3.0.0dev,>=2.18.0->google-cloud-bigquery) (3.3)\n",
      "Requirement already satisfied: setuptools>=40.3.0 in c:\\users\\bkris\\appdata\\local\\programs\\python\\python310\\lib\\site-packages (from google-auth<3.0dev,>=1.25.0->google-api-core[grpc]!=2.0.*,!=2.1.*,!=2.2.*,!=2.3.0,<3.0.0dev,>=1.31.5->google-cloud-bigquery) (58.1.0)\n",
      "Requirement already satisfied: rsa<5,>=3.1.4 in c:\\users\\bkris\\appdata\\local\\programs\\python\\python310\\lib\\site-packages (from google-auth<3.0dev,>=1.25.0->google-api-core[grpc]!=2.0.*,!=2.1.*,!=2.2.*,!=2.3.0,<3.0.0dev,>=1.31.5->google-cloud-bigquery) (4.8)\n",
      "Requirement already satisfied: cachetools<5.0,>=2.0.0 in c:\\users\\bkris\\appdata\\local\\programs\\python\\python310\\lib\\site-packages (from google-auth<3.0dev,>=1.25.0->google-api-core[grpc]!=2.0.*,!=2.1.*,!=2.2.*,!=2.3.0,<3.0.0dev,>=1.31.5->google-cloud-bigquery) (4.2.4)\n",
      "Requirement already satisfied: pyasn1-modules>=0.2.1 in c:\\users\\bkris\\appdata\\local\\programs\\python\\python310\\lib\\site-packages (from google-auth<3.0dev,>=1.25.0->google-api-core[grpc]!=2.0.*,!=2.1.*,!=2.2.*,!=2.3.0,<3.0.0dev,>=1.31.5->google-cloud-bigquery) (0.2.8)\n",
      "Requirement already satisfied: pyasn1<0.5.0,>=0.4.6 in c:\\users\\bkris\\appdata\\local\\programs\\python\\python310\\lib\\site-packages (from pyasn1-modules>=0.2.1->google-auth<3.0dev,>=1.25.0->google-api-core[grpc]!=2.0.*,!=2.1.*,!=2.2.*,!=2.3.0,<3.0.0dev,>=1.31.5->google-cloud-bigquery) (0.4.8)\n",
      "Installing collected packages: google-cloud-bigquery\n",
      "  Attempting uninstall: google-cloud-bigquery\n",
      "    Found existing installation: google-cloud-bigquery 2.34.1\n",
      "    Uninstalling google-cloud-bigquery-2.34.1:\n",
      "      Successfully uninstalled google-cloud-bigquery-2.34.1\n",
      "Successfully installed google-cloud-bigquery-3.0.1\n",
      "Requirement already satisfied: google-api-python-client in c:\\users\\bkris\\appdata\\local\\programs\\python\\python310\\lib\\site-packages (2.46.0)\n",
      "Requirement already satisfied: google-api-core!=2.0.*,!=2.1.*,!=2.2.*,!=2.3.0,<3.0.0dev,>=1.31.5 in c:\\users\\bkris\\appdata\\local\\programs\\python\\python310\\lib\\site-packages (from google-api-python-client) (2.7.2)\n",
      "Requirement already satisfied: google-auth-httplib2>=0.1.0 in c:\\users\\bkris\\appdata\\local\\programs\\python\\python310\\lib\\site-packages (from google-api-python-client) (0.1.0)\n",
      "Requirement already satisfied: uritemplate<5,>=3.0.1 in c:\\users\\bkris\\appdata\\local\\programs\\python\\python310\\lib\\site-packages (from google-api-python-client) (4.1.1)\n",
      "Requirement already satisfied: httplib2<1dev,>=0.15.0 in c:\\users\\bkris\\appdata\\local\\programs\\python\\python310\\lib\\site-packages (from google-api-python-client) (0.20.4)\n",
      "Requirement already satisfied: google-auth<3.0.0dev,>=1.16.0 in c:\\users\\bkris\\appdata\\local\\programs\\python\\python310\\lib\\site-packages (from google-api-python-client) (1.35.0)\n",
      "Requirement already satisfied: googleapis-common-protos<2.0dev,>=1.52.0 in c:\\users\\bkris\\appdata\\local\\programs\\python\\python310\\lib\\site-packages (from google-api-core!=2.0.*,!=2.1.*,!=2.2.*,!=2.3.0,<3.0.0dev,>=1.31.5->google-api-python-client) (1.56.0)\n",
      "Requirement already satisfied: requests<3.0.0dev,>=2.18.0 in c:\\users\\bkris\\appdata\\local\\programs\\python\\python310\\lib\\site-packages (from google-api-core!=2.0.*,!=2.1.*,!=2.2.*,!=2.3.0,<3.0.0dev,>=1.31.5->google-api-python-client) (2.27.1)\n",
      "Requirement already satisfied: protobuf>=3.12.0 in c:\\users\\bkris\\appdata\\local\\programs\\python\\python310\\lib\\site-packages (from google-api-core!=2.0.*,!=2.1.*,!=2.2.*,!=2.3.0,<3.0.0dev,>=1.31.5->google-api-python-client) (3.20.1)\n",
      "Requirement already satisfied: pyasn1-modules>=0.2.1 in c:\\users\\bkris\\appdata\\local\\programs\\python\\python310\\lib\\site-packages (from google-auth<3.0.0dev,>=1.16.0->google-api-python-client) (0.2.8)\n",
      "Requirement already satisfied: rsa<5,>=3.1.4 in c:\\users\\bkris\\appdata\\local\\programs\\python\\python310\\lib\\site-packages (from google-auth<3.0.0dev,>=1.16.0->google-api-python-client) (4.8)\n",
      "Requirement already satisfied: setuptools>=40.3.0 in c:\\users\\bkris\\appdata\\local\\programs\\python\\python310\\lib\\site-packages (from google-auth<3.0.0dev,>=1.16.0->google-api-python-client) (58.1.0)\n",
      "Requirement already satisfied: cachetools<5.0,>=2.0.0 in c:\\users\\bkris\\appdata\\local\\programs\\python\\python310\\lib\\site-packages (from google-auth<3.0.0dev,>=1.16.0->google-api-python-client) (4.2.4)\n",
      "Requirement already satisfied: six>=1.9.0 in c:\\users\\bkris\\appdata\\local\\programs\\python\\python310\\lib\\site-packages (from google-auth<3.0.0dev,>=1.16.0->google-api-python-client) (1.16.0)\n",
      "Requirement already satisfied: pyparsing!=3.0.0,!=3.0.1,!=3.0.2,!=3.0.3,<4,>=2.4.2 in c:\\users\\bkris\\appdata\\local\\programs\\python\\python310\\lib\\site-packages (from httplib2<1dev,>=0.15.0->google-api-python-client) (3.0.8)\n",
      "Requirement already satisfied: pyasn1<0.5.0,>=0.4.6 in c:\\users\\bkris\\appdata\\local\\programs\\python\\python310\\lib\\site-packages (from pyasn1-modules>=0.2.1->google-auth<3.0.0dev,>=1.16.0->google-api-python-client) (0.4.8)\n",
      "Requirement already satisfied: certifi>=2017.4.17 in c:\\users\\bkris\\appdata\\local\\programs\\python\\python310\\lib\\site-packages (from requests<3.0.0dev,>=2.18.0->google-api-core!=2.0.*,!=2.1.*,!=2.2.*,!=2.3.0,<3.0.0dev,>=1.31.5->google-api-python-client) (2021.10.8)\n",
      "Requirement already satisfied: charset-normalizer~=2.0.0 in c:\\users\\bkris\\appdata\\local\\programs\\python\\python310\\lib\\site-packages (from requests<3.0.0dev,>=2.18.0->google-api-core!=2.0.*,!=2.1.*,!=2.2.*,!=2.3.0,<3.0.0dev,>=1.31.5->google-api-python-client) (2.0.12)\n",
      "Requirement already satisfied: urllib3<1.27,>=1.21.1 in c:\\users\\bkris\\appdata\\local\\programs\\python\\python310\\lib\\site-packages (from requests<3.0.0dev,>=2.18.0->google-api-core!=2.0.*,!=2.1.*,!=2.2.*,!=2.3.0,<3.0.0dev,>=1.31.5->google-api-python-client) (1.26.9)\n",
      "Requirement already satisfied: idna<4,>=2.5 in c:\\users\\bkris\\appdata\\local\\programs\\python\\python310\\lib\\site-packages (from requests<3.0.0dev,>=2.18.0->google-api-core!=2.0.*,!=2.1.*,!=2.2.*,!=2.3.0,<3.0.0dev,>=1.31.5->google-api-python-client) (3.3)\n",
      "Collecting google.cloud.bigquery==2.34.1\n",
      "  Using cached google_cloud_bigquery-2.34.1-py2.py3-none-any.whl (206 kB)\n",
      "Requirement already satisfied: grpcio<2.0dev,>=1.38.1 in c:\\users\\bkris\\appdata\\local\\programs\\python\\python310\\lib\\site-packages (from google.cloud.bigquery==2.34.1) (1.44.0)\n",
      "Requirement already satisfied: proto-plus>=1.10.0 in c:\\users\\bkris\\appdata\\local\\programs\\python\\python310\\lib\\site-packages (from google.cloud.bigquery==2.34.1) (1.20.3)\n",
      "Requirement already satisfied: google-api-core[grpc]<3.0.0dev,>=1.29.0 in c:\\users\\bkris\\appdata\\local\\programs\\python\\python310\\lib\\site-packages (from google.cloud.bigquery==2.34.1) (2.7.2)\n",
      "Requirement already satisfied: google-resumable-media<3.0dev,>=0.6.0 in c:\\users\\bkris\\appdata\\local\\programs\\python\\python310\\lib\\site-packages (from google.cloud.bigquery==2.34.1) (2.3.2)\n",
      "Requirement already satisfied: protobuf>=3.12.0 in c:\\users\\bkris\\appdata\\local\\programs\\python\\python310\\lib\\site-packages (from google.cloud.bigquery==2.34.1) (3.20.1)\n",
      "Requirement already satisfied: google-cloud-core<3.0.0dev,>=1.4.1 in c:\\users\\bkris\\appdata\\local\\programs\\python\\python310\\lib\\site-packages (from google.cloud.bigquery==2.34.1) (2.3.0)\n",
      "Requirement already satisfied: requests<3.0.0dev,>=2.18.0 in c:\\users\\bkris\\appdata\\local\\programs\\python\\python310\\lib\\site-packages (from google.cloud.bigquery==2.34.1) (2.27.1)\n",
      "Requirement already satisfied: packaging>=14.3 in c:\\users\\bkris\\appdata\\local\\programs\\python\\python310\\lib\\site-packages (from google.cloud.bigquery==2.34.1) (21.3)\n",
      "Requirement already satisfied: python-dateutil<3.0dev,>=2.7.2 in c:\\users\\bkris\\appdata\\local\\programs\\python\\python310\\lib\\site-packages (from google.cloud.bigquery==2.34.1) (2.8.2)\n",
      "Requirement already satisfied: google-auth<3.0dev,>=1.25.0 in c:\\users\\bkris\\appdata\\local\\programs\\python\\python310\\lib\\site-packages (from google-api-core[grpc]<3.0.0dev,>=1.29.0->google.cloud.bigquery==2.34.1) (1.35.0)\n",
      "Requirement already satisfied: googleapis-common-protos<2.0dev,>=1.52.0 in c:\\users\\bkris\\appdata\\local\\programs\\python\\python310\\lib\\site-packages (from google-api-core[grpc]<3.0.0dev,>=1.29.0->google.cloud.bigquery==2.34.1) (1.56.0)\n",
      "Requirement already satisfied: grpcio-status<2.0dev,>=1.33.2 in c:\\users\\bkris\\appdata\\local\\programs\\python\\python310\\lib\\site-packages (from google-api-core[grpc]<3.0.0dev,>=1.29.0->google.cloud.bigquery==2.34.1) (1.44.0)\n",
      "Requirement already satisfied: google-crc32c<2.0dev,>=1.0 in c:\\users\\bkris\\appdata\\local\\programs\\python\\python310\\lib\\site-packages (from google-resumable-media<3.0dev,>=0.6.0->google.cloud.bigquery==2.34.1) (1.3.0)\n",
      "Requirement already satisfied: six>=1.5.2 in c:\\users\\bkris\\appdata\\local\\programs\\python\\python310\\lib\\site-packages (from grpcio<2.0dev,>=1.38.1->google.cloud.bigquery==2.34.1) (1.16.0)\n",
      "Requirement already satisfied: pyparsing!=3.0.5,>=2.0.2 in c:\\users\\bkris\\appdata\\local\\programs\\python\\python310\\lib\\site-packages (from packaging>=14.3->google.cloud.bigquery==2.34.1) (3.0.8)\n",
      "Requirement already satisfied: charset-normalizer~=2.0.0 in c:\\users\\bkris\\appdata\\local\\programs\\python\\python310\\lib\\site-packages (from requests<3.0.0dev,>=2.18.0->google.cloud.bigquery==2.34.1) (2.0.12)\n",
      "Requirement already satisfied: idna<4,>=2.5 in c:\\users\\bkris\\appdata\\local\\programs\\python\\python310\\lib\\site-packages (from requests<3.0.0dev,>=2.18.0->google.cloud.bigquery==2.34.1) (3.3)\n",
      "Requirement already satisfied: certifi>=2017.4.17 in c:\\users\\bkris\\appdata\\local\\programs\\python\\python310\\lib\\site-packages (from requests<3.0.0dev,>=2.18.0->google.cloud.bigquery==2.34.1) (2021.10.8)\n",
      "Requirement already satisfied: urllib3<1.27,>=1.21.1 in c:\\users\\bkris\\appdata\\local\\programs\\python\\python310\\lib\\site-packages (from requests<3.0.0dev,>=2.18.0->google.cloud.bigquery==2.34.1) (1.26.9)\n",
      "Requirement already satisfied: rsa<5,>=3.1.4 in c:\\users\\bkris\\appdata\\local\\programs\\python\\python310\\lib\\site-packages (from google-auth<3.0dev,>=1.25.0->google-api-core[grpc]<3.0.0dev,>=1.29.0->google.cloud.bigquery==2.34.1) (4.8)\n",
      "Requirement already satisfied: cachetools<5.0,>=2.0.0 in c:\\users\\bkris\\appdata\\local\\programs\\python\\python310\\lib\\site-packages (from google-auth<3.0dev,>=1.25.0->google-api-core[grpc]<3.0.0dev,>=1.29.0->google.cloud.bigquery==2.34.1) (4.2.4)\n",
      "Requirement already satisfied: pyasn1-modules>=0.2.1 in c:\\users\\bkris\\appdata\\local\\programs\\python\\python310\\lib\\site-packages (from google-auth<3.0dev,>=1.25.0->google-api-core[grpc]<3.0.0dev,>=1.29.0->google.cloud.bigquery==2.34.1) (0.2.8)\n",
      "Requirement already satisfied: setuptools>=40.3.0 in c:\\users\\bkris\\appdata\\local\\programs\\python\\python310\\lib\\site-packages (from google-auth<3.0dev,>=1.25.0->google-api-core[grpc]<3.0.0dev,>=1.29.0->google.cloud.bigquery==2.34.1) (58.1.0)\n",
      "Requirement already satisfied: pyasn1<0.5.0,>=0.4.6 in c:\\users\\bkris\\appdata\\local\\programs\\python\\python310\\lib\\site-packages (from pyasn1-modules>=0.2.1->google-auth<3.0dev,>=1.25.0->google-api-core[grpc]<3.0.0dev,>=1.29.0->google.cloud.bigquery==2.34.1) (0.4.8)\n",
      "Installing collected packages: google.cloud.bigquery\n",
      "  Attempting uninstall: google.cloud.bigquery\n",
      "    Found existing installation: google-cloud-bigquery 3.0.1\n",
      "    Uninstalling google-cloud-bigquery-3.0.1:\n",
      "      Successfully uninstalled google-cloud-bigquery-3.0.1\n",
      "Successfully installed google.cloud.bigquery-2.34.1\n",
      "Requirement already satisfied: google.cloud.storage in c:\\users\\bkris\\appdata\\local\\programs\\python\\python310\\lib\\site-packages (2.3.0)\n",
      "Requirement already satisfied: google-api-core!=2.0.*,!=2.1.*,!=2.2.*,!=2.3.0,<3.0.0dev,>=1.31.5 in c:\\users\\bkris\\appdata\\local\\programs\\python\\python310\\lib\\site-packages (from google.cloud.storage) (2.7.2)\n",
      "Requirement already satisfied: google-auth<3.0dev,>=1.25.0 in c:\\users\\bkris\\appdata\\local\\programs\\python\\python310\\lib\\site-packages (from google.cloud.storage) (1.35.0)\n",
      "Requirement already satisfied: google-cloud-core<3.0dev,>=2.3.0 in c:\\users\\bkris\\appdata\\local\\programs\\python\\python310\\lib\\site-packages (from google.cloud.storage) (2.3.0)\n",
      "Requirement already satisfied: requests<3.0.0dev,>=2.18.0 in c:\\users\\bkris\\appdata\\local\\programs\\python\\python310\\lib\\site-packages (from google.cloud.storage) (2.27.1)\n",
      "Requirement already satisfied: protobuf in c:\\users\\bkris\\appdata\\local\\programs\\python\\python310\\lib\\site-packages (from google.cloud.storage) (3.20.1)\n",
      "Requirement already satisfied: google-resumable-media>=2.3.2 in c:\\users\\bkris\\appdata\\local\\programs\\python\\python310\\lib\\site-packages (from google.cloud.storage) (2.3.2)\n",
      "Requirement already satisfied: googleapis-common-protos<2.0dev,>=1.52.0 in c:\\users\\bkris\\appdata\\local\\programs\\python\\python310\\lib\\site-packages (from google-api-core!=2.0.*,!=2.1.*,!=2.2.*,!=2.3.0,<3.0.0dev,>=1.31.5->google.cloud.storage) (1.56.0)\n",
      "Requirement already satisfied: setuptools>=40.3.0 in c:\\users\\bkris\\appdata\\local\\programs\\python\\python310\\lib\\site-packages (from google-auth<3.0dev,>=1.25.0->google.cloud.storage) (58.1.0)\n",
      "Requirement already satisfied: rsa<5,>=3.1.4 in c:\\users\\bkris\\appdata\\local\\programs\\python\\python310\\lib\\site-packages (from google-auth<3.0dev,>=1.25.0->google.cloud.storage) (4.8)\n",
      "Requirement already satisfied: pyasn1-modules>=0.2.1 in c:\\users\\bkris\\appdata\\local\\programs\\python\\python310\\lib\\site-packages (from google-auth<3.0dev,>=1.25.0->google.cloud.storage) (0.2.8)\n",
      "Requirement already satisfied: six>=1.9.0 in c:\\users\\bkris\\appdata\\local\\programs\\python\\python310\\lib\\site-packages (from google-auth<3.0dev,>=1.25.0->google.cloud.storage) (1.16.0)\n",
      "Requirement already satisfied: cachetools<5.0,>=2.0.0 in c:\\users\\bkris\\appdata\\local\\programs\\python\\python310\\lib\\site-packages (from google-auth<3.0dev,>=1.25.0->google.cloud.storage) (4.2.4)\n",
      "Requirement already satisfied: google-crc32c<2.0dev,>=1.0 in c:\\users\\bkris\\appdata\\local\\programs\\python\\python310\\lib\\site-packages (from google-resumable-media>=2.3.2->google.cloud.storage) (1.3.0)\n",
      "Requirement already satisfied: charset-normalizer~=2.0.0 in c:\\users\\bkris\\appdata\\local\\programs\\python\\python310\\lib\\site-packages (from requests<3.0.0dev,>=2.18.0->google.cloud.storage) (2.0.12)\n",
      "Requirement already satisfied: urllib3<1.27,>=1.21.1 in c:\\users\\bkris\\appdata\\local\\programs\\python\\python310\\lib\\site-packages (from requests<3.0.0dev,>=2.18.0->google.cloud.storage) (1.26.9)\n",
      "Requirement already satisfied: idna<4,>=2.5 in c:\\users\\bkris\\appdata\\local\\programs\\python\\python310\\lib\\site-packages (from requests<3.0.0dev,>=2.18.0->google.cloud.storage) (3.3)\n",
      "Requirement already satisfied: certifi>=2017.4.17 in c:\\users\\bkris\\appdata\\local\\programs\\python\\python310\\lib\\site-packages (from requests<3.0.0dev,>=2.18.0->google.cloud.storage) (2021.10.8)\n",
      "Requirement already satisfied: pyasn1<0.5.0,>=0.4.6 in c:\\users\\bkris\\appdata\\local\\programs\\python\\python310\\lib\\site-packages (from pyasn1-modules>=0.2.1->google-auth<3.0dev,>=1.25.0->google.cloud.storage) (0.4.8)\n"
     ]
    },
    {
     "name": "stderr",
     "output_type": "stream",
     "text": [
      "  error: subprocess-exited-with-error\n",
      "  \n",
      "  python setup.py egg_info did not run successfully.\n",
      "  exit code: 1\n",
      "  \n",
      "  [18 lines of output]\n",
      "  \n",
      "  WARNING: Your current install method for conda only supports conda\n",
      "  as a python library.  You are not installing a conda executable command\n",
      "  or activate/deactivate commands.  If your intention is to install conda\n",
      "  as a standalone application, currently supported install methods include\n",
      "  the Anaconda installer and the miniconda installer.  If you'd still like\n",
      "  for setup.py to create entry points for you, use `utils/setup-testing.py`.\n",
      "  \n",
      "  Traceback (most recent call last):\n",
      "    File \"<string>\", line 2, in <module>\n",
      "    File \"<pip-setuptools-caller>\", line 34, in <module>\n",
      "    File \"C:\\Users\\bkris\\AppData\\Local\\Temp\\pip-install-27amnx5v\\conda_f950c865c1804920ba3229643fced24d\\setup.py\", line 35, in <module>\n",
      "      import conda._vendor.auxlib.packaging  # NOQA\n",
      "    File \"C:\\Users\\bkris\\AppData\\Local\\Temp\\pip-install-27amnx5v\\conda_f950c865c1804920ba3229643fced24d\\conda\\__init__.py\", line 13, in <module>\n",
      "      from .common.compat import iteritems, text_type\n",
      "    File \"C:\\Users\\bkris\\AppData\\Local\\Temp\\pip-install-27amnx5v\\conda_f950c865c1804920ba3229643fced24d\\conda\\common\\compat.py\", line 77, in <module>\n",
      "      from collections import Iterable\n",
      "  ImportError: cannot import name 'Iterable' from 'collections' (C:\\Users\\bkris\\AppData\\Local\\Programs\\Python\\Python310\\lib\\collections\\__init__.py)\n",
      "  [end of output]\n",
      "  \n",
      "  note: This error originates from a subprocess, and is likely not a problem with pip.\n",
      "error: metadata-generation-failed\n",
      "\n",
      "Encountered error while generating package metadata.\n",
      "\n",
      "See above for output.\n",
      "\n",
      "note: This is an issue with the package mentioned above, not pip.\n",
      "hint: See above for details.\n"
     ]
    },
    {
     "name": "stdout",
     "output_type": "stream",
     "text": [
      "Collecting conda\n",
      "  Using cached conda-4.3.16.tar.gz (299 kB)\n",
      "  Preparing metadata (setup.py): started\n",
      "  Preparing metadata (setup.py): finished with status 'error'\n",
      "Requirement already satisfied: google in c:\\users\\bkris\\appdata\\local\\programs\\python\\python310\\lib\\site-packages (3.0.0)\n",
      "Requirement already satisfied: beautifulsoup4 in c:\\users\\bkris\\appdata\\local\\programs\\python\\python310\\lib\\site-packages (from google) (4.11.1)\n",
      "Requirement already satisfied: soupsieve>1.2 in c:\\users\\bkris\\appdata\\local\\programs\\python\\python310\\lib\\site-packages (from beautifulsoup4->google) (2.3.2.post1)\n",
      "Requirement already satisfied: pandas in c:\\users\\bkris\\appdata\\local\\programs\\python\\python310\\lib\\site-packages (1.4.2)\n",
      "Requirement already satisfied: pytz>=2020.1 in c:\\users\\bkris\\appdata\\local\\programs\\python\\python310\\lib\\site-packages (from pandas) (2022.1)\n",
      "Requirement already satisfied: numpy>=1.21.0 in c:\\users\\bkris\\appdata\\local\\programs\\python\\python310\\lib\\site-packages (from pandas) (1.22.3)\n",
      "Requirement already satisfied: python-dateutil>=2.8.1 in c:\\users\\bkris\\appdata\\local\\programs\\python\\python310\\lib\\site-packages (from pandas) (2.8.2)\n",
      "Requirement already satisfied: six>=1.5 in c:\\users\\bkris\\appdata\\local\\programs\\python\\python310\\lib\\site-packages (from python-dateutil>=2.8.1->pandas) (1.16.0)\n",
      "Requirement already satisfied: pyarrow in c:\\users\\bkris\\appdata\\local\\programs\\python\\python310\\lib\\site-packages (7.0.0)\n",
      "Requirement already satisfied: numpy>=1.16.6 in c:\\users\\bkris\\appdata\\local\\programs\\python\\python310\\lib\\site-packages (from pyarrow) (1.22.3)\n"
     ]
    }
   ],
   "source": [
    "# Для уставновки пакетов, используйте следующующие команды\n",
    "!pip install --upgrade google-cloud-core\n",
    "!pip install --upgrade google-cloud-storage\n",
    "!pip install --upgrade google-cloud-bigquery\n",
    "!pip install --upgrade google-api-python-client\n",
    "!pip install --upgrade google.cloud.bigquery==2.34.1\n",
    "!pip install google.cloud.storage\n",
    "!pip install conda\n",
    "!pip install google\n",
    "!pip install pandas\n",
    "!pip install pyarrow\n",
    "\n",
    "\n",
    "# Если в ходе решения вам понадобится установка дополнительных библиотек, \n",
    "# устанавливайте их с помощью pip или conda\n",
    "# Не стесняйтесь копировать текст ошибок прямиком в поисковик!"
   ]
  },
  {
   "cell_type": "markdown",
   "id": "ee2c2d9c",
   "metadata": {},
   "source": [
    "Для части задач будем использовать датасет `chicago_crime`"
   ]
  },
  {
   "cell_type": "code",
   "execution_count": 55,
   "id": "84659a6f",
   "metadata": {},
   "outputs": [],
   "source": [
    "from google.cloud import bigquery\n",
    "\n",
    "client = bigquery.Client()\n",
    "\n",
    "dataset_ref = client.dataset(\"chicago_crime\", project=\"bigquery-public-data\")\n",
    "\n",
    "dataset = client.get_dataset(dataset_ref)"
   ]
  },
  {
   "cell_type": "markdown",
   "id": "6b2ee2ba",
   "metadata": {},
   "source": [
    "### Задача 1\n",
    "\n",
    "Напишите код, необходимый для подсчета числа таблиц в датасете Chicago Crime"
   ]
  },
  {
   "cell_type": "code",
   "execution_count": 56,
   "id": "9a67b85f",
   "metadata": {},
   "outputs": [
    {
     "name": "stdout",
     "output_type": "stream",
     "text": [
      "1\n"
     ]
    }
   ],
   "source": [
    "tables = list(client.list_tables(dataset))\n",
    "print(len(tables))"
   ]
  },
  {
   "cell_type": "markdown",
   "id": "e5a1f2f9",
   "metadata": {},
   "source": [
    "### Задача 2\n",
    "\n",
    "Как много колонок в таблице `crime` имеют тип `TIMESTAMP`?"
   ]
  },
  {
   "cell_type": "code",
   "execution_count": 57,
   "id": "36a77de6",
   "metadata": {},
   "outputs": [
    {
     "name": "stdout",
     "output_type": "stream",
     "text": [
      "2\n"
     ]
    }
   ],
   "source": [
    "table_reference = dataset_ref.table('crime')\n",
    "table = client.get_table(table_reference)\n",
    "\n",
    "number_of_timestamp_fields = 0\n",
    "for column in table.schema:\n",
    "      if column.field_type == 'TIMESTAMP':\n",
    "            number_of_timestamp_fields += 1\n",
    "\n",
    "print(number_of_timestamp_fields)\n"
   ]
  },
  {
   "cell_type": "markdown",
   "id": "de0e926d",
   "metadata": {},
   "source": [
    "### Задача 3.\n",
    "\n",
    "Для того чтобы была возможность отобразить преступления на карте, нужно создать массив из пар координат. Получите эти данные из таблицы и сохраните их в списке"
   ]
  },
  {
   "cell_type": "code",
   "execution_count": 88,
   "id": "c4e5b211",
   "metadata": {},
   "outputs": [
    {
     "name": "stdout",
     "output_type": "stream",
     "text": [
      "                                     0\n",
      "0        (41.705329574, -87.701312543)\n",
      "1         (41.80171934, -87.630703621)\n",
      "2        (41.974129858, -87.766357256)\n",
      "3        (41.834011289, -87.635219909)\n",
      "4        (41.794509508, -87.633301738)\n",
      "...                                ...\n",
      "7529159  (41.985300429, -87.662803281)\n",
      "7529160  (41.985610724, -87.663307609)\n",
      "7529161   (41.99437391, -87.673902188)\n",
      "7529162  (41.990874413, -87.663833604)\n",
      "7529163  (41.989532092, -87.674673125)\n",
      "\n",
      "[7529164 rows x 1 columns]\n"
     ]
    }
   ],
   "source": [
    "import pandas\n",
    "\n",
    "# библиотека db_dtypes не устанавливается корректно, поэтому просто приводим тип к pandas DataFrame\n",
    "fields_for_plotting = pandas.DataFrame(client.list_rows(table, selected_fields=table.schema[-3:-1]))\n",
    "print(fields_for_plotting)\n"
   ]
  },
  {
   "cell_type": "markdown",
   "id": "09e22149",
   "metadata": {},
   "source": [
    "Далее работаем с датасетом `openaq` с таблицей `global_air_quality`"
   ]
  },
  {
   "cell_type": "code",
   "execution_count": 23,
   "id": "d4ee0fd9",
   "metadata": {},
   "outputs": [
    {
     "name": "stdout",
     "output_type": "stream",
     "text": [
      "                                                   0\n",
      "0  (Near Road, Providence-New Bedford-Fall River,...\n",
      "1  (Near Road, Providence-New Bedford-Fall River,...\n",
      "2  (Near Road, Providence-New Bedford-Fall River,...\n",
      "3  (Near Road, Providence-New Bedford-Fall River,...\n",
      "4  (Near Road, Providence-New Bedford-Fall River,...\n"
     ]
    }
   ],
   "source": [
    "from google.cloud import bigquery\n",
    "\n",
    "# Create a \"Client\" object\n",
    "client = bigquery.Client()\n",
    "\n",
    "dataset_ref = client.dataset(\"openaq\", project=\"bigquery-public-data\")\n",
    "\n",
    "dataset = client.get_dataset(dataset_ref)\n",
    "\n",
    "table_ref = dataset_ref.table(\"global_air_quality\")\n",
    "\n",
    "table = client.get_table(table_ref)\n",
    "\n",
    "print(pandas.DataFrame(client.list_rows(table, max_results=5)))"
   ]
  },
  {
   "cell_type": "markdown",
   "id": "4cdb5d86",
   "metadata": {},
   "source": [
    "### Задача 4\n",
    "\n",
    "Напишите запрос к таблице, в результате которого мы узнаем,\n",
    "какие страны используют единицы `ppm` для измерения загрязненности воздуха.\n",
    "\n",
    "Напишите свой запрос в ячейке ниже, и поместите в переменную `first_query`.\n",
    "\n",
    "Напомню, как выглядят запросы такого типа:\n",
    "```SQL\n",
    "query = \"\"\"\n",
    "        SELECT city\n",
    "        FROM `bigquery-public-data.openaq.global_air_quality`\n",
    "        WHERE country = 'US'\n",
    "        \"\"\"\n",
    "```"
   ]
  },
  {
   "cell_type": "code",
   "execution_count": 96,
   "id": "eb8b173d",
   "metadata": {},
   "outputs": [
    {
     "name": "stdout",
     "output_type": "stream",
     "text": [
      "      0\n",
      "0  (US)\n",
      "1  (PE)\n",
      "2  (AU)\n",
      "3  (ZA)\n",
      "4  (MX)\n"
     ]
    }
   ],
   "source": [
    "first_query = \"\"\"SELECT DISTINCT(country)\n",
    "                 FROM `bigquery-public-data.openaq.global_air_quality`\n",
    "                 WHERE unit = 'ppm'\n",
    "                 \"\"\"\n",
    "\n",
    "safe_config = bigquery.QueryJobConfig(maximum_bytes_billed=10**10)\n",
    "first_query_job = client.query(first_query, job_config=safe_config)\n",
    "\n",
    "first_results = pandas.DataFrame(first_query_job)\n",
    "\n",
    "print(first_results.head())"
   ]
  },
  {
   "cell_type": "markdown",
   "id": "c4d76cd0",
   "metadata": {},
   "source": [
    "### Задача 5\n",
    "\n",
    "В каких местах уровень загрязнения воздуха равен нулю?\n",
    "1. Определите запрос `zero_pollution_query`, выбирающий все колонки таблицы,\n",
    "где `value` равен нулю\n",
    "2. В переменнную `zero_pollution_results` сохраните `pd.DataFrame`\n",
    "этой отфильтрованной таблицы"
   ]
  },
  {
   "cell_type": "code",
   "execution_count": 97,
   "id": "39ad8ed8",
   "metadata": {},
   "outputs": [
    {
     "name": "stdout",
     "output_type": "stream",
     "text": [
      "                                                   0\n",
      "0  (HU-Beltsville, Washington-Arlington-Alexandri...\n",
      "1  (HU-Beltsville, Washington-Arlington-Alexandri...\n",
      "2  (HU-Beltsville, Washington-Arlington-Alexandri...\n",
      "3  (HU-Beltsville, Washington-Arlington-Alexandri...\n",
      "4  (HU-Beltsville, Washington-Arlington-Alexandri...\n"
     ]
    }
   ],
   "source": [
    "zero_pollution_query = \"\"\"SELECT *\n",
    "                          FROM `bigquery-public-data.openaq.global_air_quality`\n",
    "                          WHERE value = 0\"\"\"\n",
    "\n",
    "safe_config = bigquery.QueryJobConfig(maximum_bytes_billed=10**10)\n",
    "query_job = client.query(zero_pollution_query, job_config=safe_config)\n",
    "\n",
    "zero_pollution_results = pandas.DataFrame(query_job)\n",
    "\n",
    "print(zero_pollution_results.head())"
   ]
  },
  {
   "cell_type": "markdown",
   "id": "3ba29b8e",
   "metadata": {},
   "source": [
    "Теперь рассмотрим таблицу комментариев из датасета новостного портала `hacker_news`"
   ]
  },
  {
   "cell_type": "code",
   "execution_count": 98,
   "id": "7cbf4811",
   "metadata": {},
   "outputs": [
    {
     "data": {
      "text/plain": "<google.cloud.bigquery.table.RowIterator at 0x1cf7a96f940>"
     },
     "execution_count": 98,
     "metadata": {},
     "output_type": "execute_result"
    }
   ],
   "source": [
    "from google.cloud import bigquery\n",
    "\n",
    "client = bigquery.Client()\n",
    "\n",
    "dataset_ref = client.dataset(\"hacker_news\", project=\"bigquery-public-data\")\n",
    "\n",
    "dataset = client.get_dataset(dataset_ref)\n",
    "\n",
    "table_ref = dataset_ref.table(\"comments\")\n",
    "\n",
    "table = client.get_table(table_ref)\n",
    "\n",
    "client.list_rows(table, max_results=5)"
   ]
  },
  {
   "cell_type": "markdown",
   "id": "4b3af73e",
   "metadata": {},
   "source": [
    "### Задача 6\n",
    "\n",
    "Хакер-ньюс разыгрывают премию между авторами, у которых более 10 тысяч новостей.\n",
    "Давайте, с помощью SQL запроса, найдем всех авторов с более 10_000 постов и количество их постов.\n",
    "Назовите колонку с количеством постов `NumPosts`\n",
    "\n",
    "Здесь нам пригодится оператор `GROUP BY ... HAVING`, пример запроса:\n",
    "\n",
    "```SQL\n",
    "query = \"\"\"\n",
    "        SELECT parent, COUNT(1) AS NumPosts\n",
    "        FROM `bigquery-public-data.hacker_news.comments`\n",
    "        GROUP BY parent\n",
    "        HAVING COUNT(1) > 10\n",
    "        \"\"\"\n",
    "        ```"
   ]
  },
  {
   "cell_type": "code",
   "execution_count": 104,
   "id": "4ae3c283",
   "metadata": {},
   "outputs": [
    {
     "name": "stdout",
     "output_type": "stream",
     "text": [
      "                       0\n",
      "0  (dragonwriter, 10723)\n",
      "1         (None, 227736)\n",
      "2           (eru, 10448)\n",
      "3       (rbanffy, 10557)\n",
      "4         (DanBC, 12902)\n"
     ]
    }
   ],
   "source": [
    "prolific_commenters_query = \"\"\"SELECT author,\n",
    "                               COUNT(1) as NumPosts\n",
    "                               FROM `bigquery-public-data.hacker_news.comments`\n",
    "                               GROUP BY author\n",
    "                               HAVING COUNT(1) > 10000\"\"\"\n",
    "\n",
    "safe_config = bigquery.QueryJobConfig(maximum_bytes_billed=10**10)\n",
    "query_job = client.query(prolific_commenters_query, job_config=safe_config)\n",
    "\n",
    "prolific_commenters = pandas.DataFrame(query_job)\n",
    "\n",
    "print(prolific_commenters.head())"
   ]
  },
  {
   "cell_type": "markdown",
   "id": "edb51572",
   "metadata": {},
   "source": [
    "### Задача 7. \n",
    "\n",
    "Как много комментариев в таблице удалено? Используйте поле `deleted` со значением `True`, чтобы вывести суммарное число удаленных комментариев"
   ]
  },
  {
   "cell_type": "code",
   "execution_count": 110,
   "id": "769bb7f2",
   "metadata": {},
   "outputs": [
    {
     "name": "stdout",
     "output_type": "stream",
     "text": [
      "          0\n",
      "0  (227736)\n"
     ]
    }
   ],
   "source": [
    "deleted_posts_query = \"\"\"SELECT COUNT(*)\n",
    "                               FROM `bigquery-public-data.hacker_news.comments`\n",
    "                               WHERE deleted=True\"\"\"\n",
    "\n",
    "safe_config = bigquery.QueryJobConfig(maximum_bytes_billed=10**10)\n",
    "query_job = client.query(deleted_posts_query, job_config=safe_config)\n",
    "\n",
    "deleted_posts = pandas.DataFrame(query_job)\n",
    "\n",
    "print(deleted_posts.head())\n",
    "\n",
    "num_deleted_posts = deleted_posts[0]"
   ]
  },
  {
   "cell_type": "markdown",
   "id": "549a3029",
   "metadata": {},
   "source": [
    "Следующий датасет к рассмотрению --- `world_bank_intl_education` и таблица `international_education`"
   ]
  },
  {
   "cell_type": "code",
   "execution_count": 6,
   "id": "be5590f0",
   "metadata": {},
   "outputs": [
    {
     "data": {
      "text/plain": "<google.cloud.bigquery.table.RowIterator at 0x1cb77e8cdf0>"
     },
     "execution_count": 6,
     "metadata": {},
     "output_type": "execute_result"
    }
   ],
   "source": [
    "from google.cloud import bigquery\n",
    "\n",
    "client = bigquery.Client()\n",
    "\n",
    "dataset_ref = client.dataset(\"world_bank_intl_education\", project=\"bigquery-public-data\")\n",
    "\n",
    "dataset = client.get_dataset(dataset_ref)\n",
    "\n",
    "table_ref = dataset_ref.table(\"international_education\")\n",
    "\n",
    "table = client.get_table(table_ref)\n",
    "\n",
    "client.list_rows(table, max_results=5)"
   ]
  },
  {
   "cell_type": "markdown",
   "id": "9c533d35",
   "metadata": {},
   "source": [
    "В этой таблице значения в колонке `indicator_code` обозначают, что за данные представлены в строке.\n",
    "\n",
    "Например, индикатор `SE.XPD.TOTL.GD.ZS` отвечает за `Государственные расходы на образование в процентах от ВВП (%)`"
   ]
  },
  {
   "cell_type": "markdown",
   "id": "31571177",
   "metadata": {},
   "source": [
    "### Задача 8\n",
    "\n",
    "Напишите запрос, в результате которого будет видно, какие страны тратят наибольшую долю ВВП на образование?\n",
    "\n",
    "Сначала нужно выделить все строки, где `SE.XPD.TOTL.GD.ZS`, и напишите запрос, который\n",
    "вернет среднее значение колонки `value` для каждой страны в датасете, в период 2010-2017 гг\n",
    "(обе границы включительно)\n",
    "\n",
    "Требования:\n",
    "* Результаты долдны иметь имена стран, а не коды стран. Для каждой страны одна строка в результате\n",
    "* Используйте имя `avg_ed_spending_pct` для колонки, которую создадите с помощбю `AVG()`\n",
    "* Упорядочьте результаты так, чтобы страны с наибольшим средним отображались первыми. \n",
    "\n",
    "Пример похожего запроса на другом датасете:\n",
    "\n",
    "```SQL\n",
    "query = \"\"\"\n",
    "        SELECT COUNT(consecutive_number) AS num_accidents, \n",
    "               EXTRACT(DAYOFWEEK FROM timestamp_of_crash) AS day_of_week\n",
    "        FROM `bigquery-public-data.nhtsa_traffic_fatalities.accident_2015`\n",
    "        GROUP BY day_of_week\n",
    "        ORDER BY num_accidents DESC\n",
    "        \"\"\"\n",
    "        ```"
   ]
  },
  {
   "cell_type": "code",
   "execution_count": 118,
   "id": "1b7e55bc",
   "metadata": {},
   "outputs": [
    {
     "name": "stdout",
     "output_type": "stream",
     "text": [
      "                                           0\n",
      "0                     (Cuba, 12.83726978302)\n",
      "1  (Micronesia, Fed. Sts., 12.4677495956421)\n",
      "2        (Solomon Islands, 10.0010795593262)\n",
      "3                (Moldova, 8.37215256690979)\n",
      "4                (Namibia, 8.34961032867432)\n",
      "                                           0\n",
      "0                     (Cuba, 12.83726978302)\n",
      "1  (Micronesia, Fed. Sts., 12.4677495956421)\n",
      "2        (Solomon Islands, 10.0010795593262)\n",
      "3                (Moldova, 8.37215256690979)\n",
      "4                (Namibia, 8.34961032867432)\n"
     ]
    }
   ],
   "source": [
    "country_spend_pct_query = \"\"\"\n",
    "                          SELECT country_name,\n",
    "                          AVG(value) as avg_ed_spending_pct\n",
    "                          FROM `bigquery-public-data.world_bank_intl_education.international_education`\n",
    "                          WHERE indicator_code = 'SE.XPD.TOTL.GD.ZS' AND\n",
    "                          year BETWEEN 2010 and 2017\n",
    "                          GROUP BY country_name\n",
    "                          ORDER BY 2 DESC\n",
    "                          \"\"\"\n",
    "\n",
    "safe_config = bigquery.QueryJobConfig(maximum_bytes_billed=10**10)\n",
    "country_spend_pct_query_job = client.query(country_spend_pct_query, job_config=safe_config)\n",
    "\n",
    "country_spending_results = pandas.DataFrame(country_spend_pct_query_job)\n",
    "\n",
    "print(country_spending_results.head())"
   ]
  },
  {
   "cell_type": "markdown",
   "id": "bb24b294",
   "metadata": {},
   "source": [
    "### Задача 9\n",
    "\n",
    "В этой таблице тысячи различных кодов в поле `indicator`, чтобы ознакомится с ними\n",
    "всеми потребуется очень много времени. Множество кодов доступно для ограниченного числа стран,\n",
    "мы можем отбросить из рассмотрения коды, которые встречаются редко.\n",
    "\n",
    "Напишите такой запрос, чтобы получить таблицу, содержащую коды и имена `indicator_name`,\n",
    "для тех `indicator`, которые встречаются более 175 раз в 2016м году.\n",
    "\n",
    "Требования:\n",
    "\n",
    "* Одна строка на одно имя и `indicator` код\n",
    "* Колонки должны называться: `indicator_code`, `indicator_name` и `num_rows`\n",
    "* Результат должен содержать только коды, где >= 175 строк\n",
    "* Чтобы получить и `indicator_code`, и `indicator_name` в результирующем DataFrame, нужно добавить оба поля в `SELECT` (в дополнении к агрегации `COUNT()`). Это значит, что их оба нужно добавить и в `GROUP BY`\n",
    "* Упорядочьте результаты в порядке убывания (сверху вниз)"
   ]
  },
  {
   "cell_type": "code",
   "execution_count": 16,
   "id": "173e25c1",
   "metadata": {},
   "outputs": [
    {
     "name": "stdout",
     "output_type": "stream",
     "text": [
      "                                                   0\n",
      "0            (Population, total, SP.POP.TOTL, 11155)\n",
      "1  (Population growth (annual %), SP.POP.GROW, 11...\n",
      "2  (Population, ages 15-64 (% of total), SP.POP.1...\n",
      "3  (Population, male (% of total), SP.POP.TOTL.MA...\n",
      "4  (Population, ages 0-14 (% of total), SP.POP.00...\n"
     ]
    }
   ],
   "source": [
    "import pandas\n",
    "code_count_query = \"\"\"SELECT indicator_name,\n",
    "                        indicator_code,\n",
    "                        COUNT(*)\n",
    "                        FROM `bigquery-public-data.world_bank_intl_education.international_education`\n",
    "                        GROUP BY indicator_code, indicator_name\n",
    "                        HAVING COUNT(*) >= 175\n",
    "                        ORDER BY 3 DESC\"\"\"\n",
    "\n",
    "safe_config = bigquery.QueryJobConfig(maximum_bytes_billed=10**10)\n",
    "code_count_query_job = client.query(code_count_query, job_config=safe_config)\n",
    "\n",
    "code_count_results = pandas.DataFrame(code_count_query_job)\n",
    "\n",
    "print(code_count_results.head())"
   ]
  },
  {
   "cell_type": "markdown",
   "id": "a5798605",
   "metadata": {},
   "source": [
    "Наконец, перейдем к `JOIN`. Работать будем, как вы могли догадаться, с новым датасетом.\n",
    "С таблицами `posts_questions` и `posts_questions` из датасета `stackoverflow`\n"
   ]
  },
  {
   "cell_type": "code",
   "execution_count": 17,
   "id": "4c3512ef",
   "metadata": {},
   "outputs": [
    {
     "data": {
      "text/plain": "<google.cloud.bigquery.table.RowIterator at 0x1cb7aca8fa0>"
     },
     "execution_count": 17,
     "metadata": {},
     "output_type": "execute_result"
    }
   ],
   "source": [
    "from google.cloud import bigquery\n",
    "\n",
    "lient = bigquery.Client()\n",
    "\n",
    "dataset_ref = client.dataset(\"stackoverflow\", project=\"bigquery-public-data\")\n",
    "\n",
    "dataset = client.get_dataset(dataset_ref)\n",
    "\n",
    "table_ref = dataset_ref.table(\"posts_questions\")\n",
    "\n",
    "table = client.get_table(table_ref)\n",
    "\n",
    "client.list_rows(table, max_results=5)"
   ]
  },
  {
   "cell_type": "markdown",
   "id": "74d4a76f",
   "metadata": {},
   "source": [
    "Таблица ответов"
   ]
  },
  {
   "cell_type": "code",
   "execution_count": 18,
   "id": "0f4da887",
   "metadata": {},
   "outputs": [
    {
     "data": {
      "text/plain": "<google.cloud.bigquery.table.RowIterator at 0x1cb7acca1d0>"
     },
     "execution_count": 18,
     "metadata": {},
     "output_type": "execute_result"
    }
   ],
   "source": [
    "table_ref = dataset_ref.table(\"posts_answers\")\n",
    "\n",
    "table = client.get_table(table_ref)\n",
    "\n",
    "client.list_rows(table, max_results=5)"
   ]
  },
  {
   "cell_type": "markdown",
   "id": "fa361406",
   "metadata": {},
   "source": [
    "### Задача 10\n",
    "\n",
    "Как долго приходится ждать, чтобы получить ответ на вопрос? \n",
    "\n",
    "Рассмотрим запрос, с его помощью получаем информацию по вопросам, заданным в 2018 году. Он возвращает:\n",
    "* `q_id` идентификатор вопроса\n",
    "* `time_to_answer` сколько секунд прошло до ответа на вопрос"
   ]
  },
  {
   "cell_type": "markdown",
   "id": "bdf0198a",
   "metadata": {},
   "source": [
    "Ячейку ниже нужно выполнить не изменяя"
   ]
  },
  {
   "cell_type": "code",
   "execution_count": 22,
   "id": "3b1e7793",
   "metadata": {},
   "outputs": [
    {
     "data": {
      "text/plain": "134731"
     },
     "execution_count": 22,
     "metadata": {},
     "output_type": "execute_result"
    }
   ],
   "source": [
    "first_query = \"\"\"\n",
    "              SELECT q.id AS q_id,\n",
    "                  MIN(TIMESTAMP_DIFF(a.creation_date, q.creation_date, SECOND)) as time_to_answer\n",
    "              FROM `bigquery-public-data.stackoverflow.posts_questions` AS q\n",
    "                  INNER JOIN `bigquery-public-data.stackoverflow.posts_answers` AS a\n",
    "              ON q.id = a.parent_id\n",
    "              WHERE q.creation_date >= '2018-01-01' and q.creation_date < '2018-02-01'\n",
    "              GROUP BY q_id\n",
    "              ORDER BY time_to_answer\n",
    "              \"\"\"\n",
    "\n",
    "first_result = client.query(first_query).result()\n",
    "print(\"Процент отвеченных вопросов: %s%%\" % \\\n",
    "      (sum(first_result[\"time_to_answer\"].notnull()) / len(first_result) * 100))\n",
    "print(\"Количество вопросов:\", len(first_result))\n",
    "first_result.head()"
   ]
  },
  {
   "cell_type": "markdown",
   "id": "ab5bacb1",
   "metadata": {},
   "source": [
    "Видим подозрительные результаты. Очевидно, с запросом что-то не так.\n",
    "\n",
    "* Исходя из запроса, 100% вопросов в 2018 получили ответы. Но статистика сайта говорит,\n",
    "что только 80% всех вопросов бывают с ответами\n",
    "* Полное число вопросов удивительно мало 134 тысячи. \n",
    "\n",
    "Учитывая проблемы, указанные выше, кажется что, выбранный тип `JOIN` отфильтровал неотвеченные вопросы и сохранил лишь те, что с ответами. Предлагается изменить запрос так, чтобы достичь желаемого поведения, использую один из методов для джойна таблиц (`INNER, LEFT, RIGHT` или `FULL`)"
   ]
  },
  {
   "cell_type": "code",
   "execution_count": 21,
   "id": "a2d312c0",
   "metadata": {},
   "outputs": [
    {
     "data": {
      "text/plain": "161837"
     },
     "execution_count": 21,
     "metadata": {},
     "output_type": "execute_result"
    }
   ],
   "source": [
    "correct_query = \"\"\"\n",
    "              SELECT q.id AS q_id,\n",
    "                  MIN(TIMESTAMP_DIFF(a.creation_date, q.creation_date, SECOND)) as time_to_answer\n",
    "              FROM `bigquery-public-data.stackoverflow.posts_questions` AS q\n",
    "                  LEFT JOIN `bigquery-public-data.stackoverflow.posts_answers` AS a\n",
    "              ON q.id = a.parent_id\n",
    "              WHERE q.creation_date >= '2018-01-01' and q.creation_date < '2018-02-01'\n",
    "              GROUP BY q_id\n",
    "              ORDER BY time_to_answer\n",
    "              \"\"\"\n",
    "\n",
    "first_result = client.query(correct_query).result()\n",
    "print(\"Процент отвеченных вопросов: %s%%\" % \\\n",
    "      (sum(first_result[\"time_to_answer\"].notnull()) / len(first_result) * 100))\n",
    "print(\"Количество вопросов:\", len(first_result))\n",
    "first_result.head()\n",
    "\n",
    "# to_dataframe не работает, но я посмотрела на длину возвращаемого запроса и увидела, что она больше, чем длина\n",
    "# датафрейма на прошлой итерации."
   ]
  }
 ],
 "metadata": {
  "kernelspec": {
   "display_name": "Python 3",
   "language": "python",
   "name": "python3"
  },
  "language_info": {
   "codemirror_mode": {
    "name": "ipython",
    "version": 3
   },
   "file_extension": ".py",
   "mimetype": "text/x-python",
   "name": "python",
   "nbconvert_exporter": "python",
   "pygments_lexer": "ipython3",
   "version": "3.8.1"
  }
 },
 "nbformat": 4,
 "nbformat_minor": 5
}