{
 "cells": [
  {
   "cell_type": "markdown",
   "id": "a8208c4f",
   "metadata": {},
   "source": [
    "# Домашнее задание.\n",
    "### Работа с BigQuery с помощью SQL запросов\n",
    "\n",
    "Сначала подготовим среду для работы с BigQuery, далее к решению предлагаются задачи"
   ]
  },
  {
   "cell_type": "code",
   "execution_count": null,
   "id": "e3671b8f",
   "metadata": {},
   "outputs": [],
   "source": [
    "import os\n",
    "\n",
    "# тут должен быть путь к вашему ключу\n",
    "os.environ[\"GOOGLE_APPLICATION_CREDENTIALS\"]= \\\n",
    "\"/home/emil/Documents/steel-totality-286807-6316434751b0.json\""
   ]
  },
  {
   "cell_type": "code",
   "execution_count": null,
   "id": "b086e42f",
   "metadata": {},
   "outputs": [],
   "source": [
    "# Для уставновки пакетов, используйте следующующие команды\n",
    "!conda install -c conda-forge google-cloud-bigquery -y\n",
    "!conda install -c conda-forge pandas -y\n",
    "!pip install pyarrow\n",
    "\n",
    "# Если в ходе решения вам понадобится установка дополнительных библиотек, \n",
    "# устанавливайте их с помощью pip или conda\n",
    "# Не стесняйтесь копировать текст ошибок прямиком в поисковик!"
   ]
  },
  {
   "cell_type": "markdown",
   "id": "ee2c2d9c",
   "metadata": {},
   "source": [
    "Для части задач будем использовать датасет `chicago_crime`"
   ]
  },
  {
   "cell_type": "code",
   "execution_count": null,
   "id": "84659a6f",
   "metadata": {},
   "outputs": [],
   "source": [
    "from google.cloud import bigquery\n",
    "\n",
    "client = bigquery.Client()\n",
    "\n",
    "dataset_ref = client.dataset(\"chicago_crime\", project=\"bigquery-public-data\")\n",
    "\n",
    "dataset = client.get_dataset(dataset_ref)"
   ]
  },
  {
   "cell_type": "markdown",
   "id": "6b2ee2ba",
   "metadata": {},
   "source": [
    "### Задача 1\n",
    "\n",
    "Напишите код, необходимый для подсчета числа таблиц в датасете Chicago Crime"
   ]
  },
  {
   "cell_type": "code",
   "execution_count": null,
   "id": "9a67b85f",
   "metadata": {},
   "outputs": [],
   "source": [
    "# Ваш код"
   ]
  },
  {
   "cell_type": "markdown",
   "id": "e5a1f2f9",
   "metadata": {},
   "source": [
    "### Задача 2\n",
    "\n",
    "Как много колонок в таблице `crime` имеют тип `TIMESTAMP`?"
   ]
  },
  {
   "cell_type": "code",
   "execution_count": null,
   "id": "36a77de6",
   "metadata": {},
   "outputs": [],
   "source": [
    "# Ваш код"
   ]
  },
  {
   "cell_type": "markdown",
   "id": "de0e926d",
   "metadata": {},
   "source": [
    "### Задача 3.\n",
    "\n",
    "Для того, чтобы была возможность отобразить преступления на карте, нужно создать массив из пар координат. Получите эти данные из таблицы и сохраните их в списке"
   ]
  },
  {
   "cell_type": "code",
   "execution_count": null,
   "id": "c4e5b211",
   "metadata": {},
   "outputs": [],
   "source": [
    "# fields_for_plotting = [(x1, y1), ...]\n",
    "# Ваш код"
   ]
  },
  {
   "cell_type": "markdown",
   "id": "09e22149",
   "metadata": {},
   "source": [
    "Далее работаем с датасетом `openaq` с таблицей `global_air_quality`"
   ]
  },
  {
   "cell_type": "code",
   "execution_count": null,
   "id": "d4ee0fd9",
   "metadata": {},
   "outputs": [],
   "source": [
    "from google.cloud import bigquery\n",
    "\n",
    "# Create a \"Client\" object\n",
    "client = bigquery.Client()\n",
    "\n",
    "dataset_ref = client.dataset(\"openaq\", project=\"bigquery-public-data\")\n",
    "\n",
    "dataset = client.get_dataset(dataset_ref)\n",
    "\n",
    "table_ref = dataset_ref.table(\"global_air_quality\")\n",
    "\n",
    "table = client.get_table(table_ref)\n",
    "\n",
    "client.list_rows(table, max_results=5).to_dataframe()"
   ]
  },
  {
   "cell_type": "markdown",
   "id": "4cdb5d86",
   "metadata": {},
   "source": [
    "### Задача 4\n",
    "\n",
    "Напишите запрос к таблице, в результате которого мы узнаем, какие страны исползуют единицы `ppm` для измерения загрязненности воздуха.\n",
    "\n",
    "Напишите свой запрос в ячейке ниже, и поместите в переменную `first_query`.\n",
    "\n",
    "Напомню, как выглядят запросы такого типа:\n",
    "```SQL\n",
    "query = \"\"\"\n",
    "        SELECT city\n",
    "        FROM `bigquery-public-data.openaq.global_air_quality`\n",
    "        WHERE country = 'US'\n",
    "        \"\"\"\n",
    "```"
   ]
  },
  {
   "cell_type": "code",
   "execution_count": null,
   "id": "eb8b173d",
   "metadata": {},
   "outputs": [],
   "source": [
    "first_query = # введите ваш запрос\n",
    "\n",
    "safe_config = bigquery.QueryJobConfig(maximum_bytes_billed=10**10)\n",
    "first_query_job = client.query(first_query, job_config=safe_config)\n",
    "\n",
    "first_results = first_query_job.to_dataframe()\n",
    "\n",
    "print(first_results.head())"
   ]
  },
  {
   "cell_type": "markdown",
   "id": "c4d76cd0",
   "metadata": {},
   "source": [
    "### Задача 5\n",
    "\n",
    "В каких местах уровень загрязнения воздуха равен нулю?\n",
    "1. Определите запрос `zer_pollution_query`, выбирающий все колонки таблицы, где `value` равен нулю\n",
    "2. В переменнную `zero_pollution_results` сохраните `pd.DataFrame` этой отфильтрованной таблицы"
   ]
  },
  {
   "cell_type": "code",
   "execution_count": null,
   "id": "39ad8ed8",
   "metadata": {},
   "outputs": [],
   "source": [
    "zero_pollution_query = # ваш код запроса\n",
    "\n",
    "safe_config = bigquery.QueryJobConfig(maximum_bytes_billed=10**10)\n",
    "query_job = client.query(zero_pollution_query, job_config=safe_config)\n",
    "\n",
    "zero_pollution_results = # преобразование результатов к DataFrame\n",
    "\n",
    "print(zero_pollution_results.head())"
   ]
  },
  {
   "cell_type": "markdown",
   "id": "3ba29b8e",
   "metadata": {},
   "source": [
    "Теперь рассмотрим таблицу комментариев из датасета новостного портала `hacker_news`"
   ]
  },
  {
   "cell_type": "code",
   "execution_count": null,
   "id": "7cbf4811",
   "metadata": {},
   "outputs": [],
   "source": [
    "from google.cloud import bigquery\n",
    "\n",
    "client = bigquery.Client()\n",
    "\n",
    "dataset_ref = client.dataset(\"hacker_news\", project=\"bigquery-public-data\")\n",
    "\n",
    "dataset = client.get_dataset(dataset_ref)\n",
    "\n",
    "table_ref = dataset_ref.table(\"comments\")\n",
    "\n",
    "table = client.get_table(table_ref)\n",
    "\n",
    "client.list_rows(table, max_results=5).to_dataframe()"
   ]
  },
  {
   "cell_type": "markdown",
   "id": "4b3af73e",
   "metadata": {},
   "source": [
    "### Задача 6\n",
    "\n",
    "Хакер-ньюс разыгрывают премию между авторами, у которых более 10 тысяч новостей. Давайте, с помощью SQL запроса, найдем всех авторов с более 10_000 постов и количество их постов. Назовите колонку с количеством постов `NumPosts`\n",
    "\n",
    "Здесь нам пригодится оператор `GROUP BY ... HAVING`, пример запроса:\n",
    "\n",
    "```SQL\n",
    "query = \"\"\"\n",
    "        SELECT parent, COUNT(1) AS NumPosts\n",
    "        FROM `bigquery-public-data.hacker_news.comments`\n",
    "        GROUP BY parent\n",
    "        HAVING COUNT(1) > 10\n",
    "        \"\"\"\n",
    "        ```"
   ]
  },
  {
   "cell_type": "code",
   "execution_count": null,
   "id": "4ae3c283",
   "metadata": {},
   "outputs": [],
   "source": [
    "prolific_commenters_query = # ваш запрос\n",
    "\n",
    "safe_config = bigquery.QueryJobConfig(maximum_bytes_billed=10**10)\n",
    "query_job = client.query(prolific_commenters_query, job_config=safe_config)\n",
    "\n",
    "prolific_commenters = query_job.to_dataframe()\n",
    "\n",
    "print(prolific_commenters.head())"
   ]
  },
  {
   "cell_type": "markdown",
   "id": "edb51572",
   "metadata": {},
   "source": [
    "### Задача 7. \n",
    "\n",
    "Как много комментариев в таблице удалено? Используйте поле `deleted` со значением `True`, чтобы вывести суммарное число удаленных комментариев"
   ]
  },
  {
   "cell_type": "code",
   "execution_count": null,
   "id": "769bb7f2",
   "metadata": {},
   "outputs": [],
   "source": [
    "deleted_posts_query = # ваш запрос\n",
    "\n",
    "safe_config = bigquery.QueryJobConfig(maximum_bytes_billed=10**10)\n",
    "query_job = client.query(deleted_posts_query, job_config=safe_config)\n",
    "\n",
    "deleted_posts = query_job.to_dataframe()\n",
    "\n",
    "print(prolific_commenters.head())\n",
    "\n",
    "num_deleted_posts = # сохраните это число в переменную"
   ]
  },
  {
   "cell_type": "markdown",
   "id": "549a3029",
   "metadata": {},
   "source": [
    "Следующий датасет к рассмотрению --- `world_bank_intl_education` и таблица `international_education`"
   ]
  },
  {
   "cell_type": "code",
   "execution_count": null,
   "id": "be5590f0",
   "metadata": {},
   "outputs": [],
   "source": [
    "from google.cloud import bigquery\n",
    "\n",
    "client = bigquery.Client()\n",
    "\n",
    "dataset_ref = client.dataset(\"world_bank_intl_education\", project=\"bigquery-public-data\")\n",
    "\n",
    "dataset = client.get_dataset(dataset_ref)\n",
    "\n",
    "table_ref = dataset_ref.table(\"international_education\")\n",
    "\n",
    "table = client.get_table(table_ref)\n",
    "\n",
    "client.list_rows(table, max_results=5).to_dataframe()"
   ]
  },
  {
   "cell_type": "markdown",
   "id": "9c533d35",
   "metadata": {},
   "source": [
    "В этой таблице значения в колонке `indicator_code` обозначают, что за данные представлены в строке.\n",
    "\n",
    "Например, индикатор `SE.XPD.TOTL.GD.ZS` отвечает за `Государственные расходы на образование в процентах от ВВП (%)`"
   ]
  },
  {
   "cell_type": "markdown",
   "id": "31571177",
   "metadata": {},
   "source": [
    "### Задача 8\n",
    "\n",
    "Напишите запрос, в результате которого будет видно, какие страны тратят наибольшую долю ВВП на образование?\n",
    "\n",
    "Сначала нужно выделить все строки, где `SE.XPD.TOTL.GD.ZS`, и напишите запрос, который вернет среднее значение колонки `value` для каждой страны в датасете, в период 2010-2017 гг (обе границы включительно)\n",
    "\n",
    "Требования:\n",
    "* Результаты долдны иметь имена стран, а не коды стран. Для каждой страны одна строка в результате\n",
    "* Используйте имя `avg_ed_spending_pct` для колонки, которую создадите с помощбю `AVG()`\n",
    "* Упорядочьте результаты так, чтобы страны с наибольшим средним отображались первыми. \n",
    "\n",
    "Пример похожего запроса на другом датасете:\n",
    "\n",
    "```SQL\n",
    "query = \"\"\"\n",
    "        SELECT COUNT(consecutive_number) AS num_accidents, \n",
    "               EXTRACT(DAYOFWEEK FROM timestamp_of_crash) AS day_of_week\n",
    "        FROM `bigquery-public-data.nhtsa_traffic_fatalities.accident_2015`\n",
    "        GROUP BY day_of_week\n",
    "        ORDER BY num_accidents DESC\n",
    "        \"\"\"\n",
    "        ```"
   ]
  },
  {
   "cell_type": "code",
   "execution_count": null,
   "id": "1b7e55bc",
   "metadata": {},
   "outputs": [],
   "source": [
    "country_spend_pct_query = \"\"\"\n",
    "                          SELECT _____\n",
    "                          FROM `bigquery-public-data.world_bank_intl_education.international_education`\n",
    "                          WHERE ____\n",
    "                          GROUP BY ____\n",
    "                          ORDER BY ____\n",
    "                          \"\"\"\n",
    "\n",
    "safe_config = bigquery.QueryJobConfig(maximum_bytes_billed=10**10)\n",
    "country_spend_pct_query_job = client.query(country_spend_pct_query, job_config=safe_config)\n",
    "\n",
    "country_spending_results = country_spend_pct_query_job.to_dataframe()\n",
    "\n",
    "print(country_spending_results.head())"
   ]
  },
  {
   "cell_type": "markdown",
   "id": "bb24b294",
   "metadata": {},
   "source": [
    "### Задача 9\n",
    "\n",
    "В этой таблице тысячи различных кодов в поле `indicator`, чтобы ознакомится с ними всеми потребуется очень много времени. Множество кодов доступно для ограниченного числа стран, мы можем отбросить из рассмотрения коды, которые встречаются редко.\n",
    "\n",
    "Напишите такой запрос, чтобы получить таблицу, содержащую коды и имена `indicator_name`, для тех `indicator`, которые встречаются более 175 раз в 2016м году.\n",
    "\n",
    "Требования:\n",
    "\n",
    "* Одна строка на одно имя и `indicator` код\n",
    "* Колонки должны называться: `indicator_code`, `indicator_name` и `num_rows`\n",
    "* Результат должен содержать только коды, где >= 175 строк\n",
    "* Чтобы получить и `indicator_code`, и `indicator_name` в результирующем DataFrame, нужно добавить оба поля в `SELECT` (в дополнении к агрегации `COUNT()`). Это значит, что их оба нужно добавить и в `GROUP BY`\n",
    "* Упорядочьте результаты в порядке убывания (сверху вниз)"
   ]
  },
  {
   "cell_type": "code",
   "execution_count": null,
   "id": "173e25c1",
   "metadata": {},
   "outputs": [],
   "source": [
    "code_count_query = # ваш запрос\n",
    "\n",
    "safe_config = bigquery.QueryJobConfig(maximum_bytes_billed=10**10)\n",
    "code_count_query_job = client.query(code_count_query, job_config=safe_config)\n",
    "\n",
    "code_count_results = code_count_query_job.to_dataframe()\n",
    "\n",
    "print(code_count_results.head())"
   ]
  },
  {
   "cell_type": "markdown",
   "id": "a5798605",
   "metadata": {},
   "source": [
    "Наконец, перейдем к `JOIN`. Работать будем, как вы могли догадаться, с новым датасетом. С таблицами `posts_questions` и `posts_questions` из датасета `stackoverflow`\n"
   ]
  },
  {
   "cell_type": "code",
   "execution_count": null,
   "id": "4c3512ef",
   "metadata": {},
   "outputs": [],
   "source": [
    "from google.cloud import bigquery\n",
    "\n",
    "lient = bigquery.Client()\n",
    "\n",
    "dataset_ref = client.dataset(\"stackoverflow\", project=\"bigquery-public-data\")\n",
    "\n",
    "dataset = client.get_dataset(dataset_ref)\n",
    "\n",
    "table_ref = dataset_ref.table(\"posts_questions\")\n",
    "\n",
    "table = client.get_table(table_ref)\n",
    "\n",
    "client.list_rows(table, max_results=5).to_dataframe()"
   ]
  },
  {
   "cell_type": "markdown",
   "id": "74d4a76f",
   "metadata": {},
   "source": [
    "Таблица ответов"
   ]
  },
  {
   "cell_type": "code",
   "execution_count": null,
   "id": "0f4da887",
   "metadata": {},
   "outputs": [],
   "source": [
    "table_ref = dataset_ref.table(\"posts_answers\")\n",
    "\n",
    "table = client.get_table(table_ref)\n",
    "\n",
    "client.list_rows(table, max_results=5).to_dataframe()"
   ]
  },
  {
   "cell_type": "markdown",
   "id": "fa361406",
   "metadata": {},
   "source": [
    "### Задача 10\n",
    "\n",
    "Как долго приходится ждать, чтобы получить ответ на вопрос? \n",
    "\n",
    "Рассмотрим запрос, с его помощью получаем информацию по вопросам, заданным в 2018 году. Он возвращает:\n",
    "* `q_id` идентификатор вопроса\n",
    "* `time_to_answer` сколько секунд прошло до ответа на вопрос"
   ]
  },
  {
   "cell_type": "markdown",
   "id": "bdf0198a",
   "metadata": {},
   "source": [
    "Ячейку ниже нужно выполнить не изменяя"
   ]
  },
  {
   "cell_type": "code",
   "execution_count": null,
   "id": "3b1e7793",
   "metadata": {},
   "outputs": [],
   "source": [
    "first_query = \"\"\"\n",
    "              SELECT q.id AS q_id,\n",
    "                  MIN(TIMESTAMP_DIFF(a.creation_date, q.creation_date, SECOND)) as time_to_answer\n",
    "              FROM `bigquery-public-data.stackoverflow.posts_questions` AS q\n",
    "                  INNER JOIN `bigquery-public-data.stackoverflow.posts_answers` AS a\n",
    "              ON q.id = a.parent_id\n",
    "              WHERE q.creation_date >= '2018-01-01' and q.creation_date < '2018-02-01'\n",
    "              GROUP BY q_id\n",
    "              ORDER BY time_to_answer\n",
    "              \"\"\"\n",
    "\n",
    "first_result = client.query(first_query).result().to_dataframe()\n",
    "print(\"Процент отвеченных вопросов: %s%%\" % \\\n",
    "      (sum(first_result[\"time_to_answer\"].notnull()) / len(first_result) * 100))\n",
    "print(\"Количество вопросов:\", len(first_result))\n",
    "first_result.head()"
   ]
  },
  {
   "cell_type": "markdown",
   "id": "ab5bacb1",
   "metadata": {},
   "source": [
    "Видим подозрительные результаты. Очевидно, с запросом что-то не так.\n",
    "\n",
    "* Исходя из запроса, 100% вопросов в 2018 получили ответы. Но статистика сайта говорит, что только 80% всех вопросов бывают с ответами\n",
    "* Полное число вопросов удивительно мало 134 тысячи. \n",
    "\n",
    "Учитывая проблемы, указанные выше, кажется что, выбранный тип `JOIN` отфильтровал неотвеченные вопросы и сохранил лишь те, что с ответами. Предлагается изменить запрос так, чтобы достичь желаемого поведения, использую один из методов для джойна таблиц (`INNER, LEFT, RIGHT` или `FULL`)"
   ]
  },
  {
   "cell_type": "code",
   "execution_count": null,
   "id": "a2d312c0",
   "metadata": {},
   "outputs": [],
   "source": [
    "correct_query = # ваш запрос \n",
    "\n",
    "first_result = client.query(correct_query).result().to_dataframe()\n",
    "print(\"Процент отвеченных вопросов: %s%%\" % \\\n",
    "      (sum(first_result[\"time_to_answer\"].notnull()) / len(first_result) * 100))\n",
    "print(\"Количество вопросов:\", len(first_result))\n",
    "first_result.head()"
   ]
  }
 ],
 "metadata": {
  "kernelspec": {
   "display_name": "Python 3",
   "language": "python",
   "name": "python3"
  },
  "language_info": {
   "codemirror_mode": {
    "name": "ipython",
    "version": 3
   },
   "file_extension": ".py",
   "mimetype": "text/x-python",
   "name": "python",
   "nbconvert_exporter": "python",
   "pygments_lexer": "ipython3",
   "version": "3.8.1"
  }
 },
 "nbformat": 4,
 "nbformat_minor": 5
}
