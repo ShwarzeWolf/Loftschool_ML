{
 "cells": [
  {
   "cell_type": "code",
   "execution_count": null,
   "outputs": [],
   "source": [
    "def round_to_two_places(num: float) -> float:\n",
    "    \"\"\"Возвращает заданное число, округленное до двух знаков после запятой.\"\"\"\n",
    "    return round(num, 2)\n",
    "\n",
    "print(round_to_two_places(3.141519))"
   ],
   "metadata": {
    "collapsed": false,
    "pycharm": {
     "name": "#%%\n"
    }
   }
  },
  {
   "cell_type": "code",
   "execution_count": 6,
   "outputs": [
    {
     "name": "stdout",
     "output_type": "stream",
     "text": [
      "12300.0\n"
     ]
    }
   ],
   "source": [
    "# функция с отрицательными аргументами в качесиве ndigits округляет\n",
    "# значения до запятой (-2 - 2 знака до запятой)\n",
    "print(round(12345.67, -2))"
   ],
   "metadata": {
    "collapsed": false,
    "pycharm": {
     "name": "#%%\n"
    }
   }
  },
  {
   "cell_type": "code",
   "execution_count": 7,
   "outputs": [
    {
     "name": "stdout",
     "output_type": "stream",
     "text": [
      "1\n",
      "2\n"
     ]
    }
   ],
   "source": [
    "def to_smash(total_candies: int, number_of_friends: int = 3) -> int:\n",
    "    \"\"\"Возвращает количество оставшихся конфет, которые должны быть разбиты после того, как\n",
    "    заданное количество конфет распределяется поровну между number_of_friends друзьями\"\"\"\n",
    "    return total_candies % number_of_friends\n",
    "\n",
    "print(to_smash(91))\n",
    "print(to_smash(92, 10))"
   ],
   "metadata": {
    "collapsed": false,
    "pycharm": {
     "name": "#%%\n"
    }
   }
  },
  {
   "cell_type": "code",
   "execution_count": 25,
   "outputs": [],
   "source": [
    "def sign(x: int) -> int:\n",
    "    \"\"\"Returns sign of a value (-1 for negative, 1 for positive, 0 for 0)\"\"\"\n",
    "    if x == 0:\n",
    "         return 0\n",
    "    elif x < 0:\n",
    "        return -1\n",
    "    else:\n",
    "        return 1"
   ],
   "metadata": {
    "collapsed": false,
    "pycharm": {
     "name": "#%%\n"
    }
   }
  },
  {
   "cell_type": "code",
   "execution_count": 24,
   "outputs": [
    {
     "name": "stdout",
     "output_type": "stream",
     "text": [
      "Будет разбито 0 конфет\n",
      "Будет разбита 1 конфета\n",
      "Будет разбито 2 конфеты\n",
      "Будет разбито 3 конфеты\n",
      "Будет разбито 4 конфеты\n",
      "Будет разбито 5 конфет\n",
      "Будет разбито 6 конфет\n",
      "Будет разбито 7 конфет\n",
      "Будет разбито 8 конфет\n",
      "Будет разбито 9 конфет\n",
      "Будет разбито 10 конфет\n",
      "Будет разбито 11 конфет\n",
      "Будет разбито 12 конфет\n",
      "Будет разбито 13 конфет\n",
      "Будет разбито 14 конфет\n",
      "Будет разбито 15 конфет\n",
      "Будет разбито 16 конфет\n",
      "Будет разбито 17 конфет\n",
      "Будет разбито 18 конфет\n",
      "Будет разбито 19 конфет\n",
      "Будет разбито 20 конфет\n",
      "Будет разбита 21 конфета\n",
      "Будет разбито 22 конфеты\n",
      "Будет разбито 23 конфеты\n",
      "Будет разбито 24 конфеты\n",
      "Будет разбито 25 конфет\n",
      "Будет разбито 26 конфет\n",
      "Будет разбито 27 конфет\n",
      "Будет разбито 28 конфет\n",
      "Будет разбито 29 конфет\n",
      "Будет разбито 30 конфет\n",
      "Будет разбита 31 конфета\n",
      "Будет разбито 32 конфеты\n",
      "Будет разбито 33 конфеты\n",
      "Будет разбито 34 конфеты\n",
      "Будет разбито 35 конфет\n",
      "Будет разбито 36 конфет\n",
      "Будет разбито 37 конфет\n",
      "Будет разбито 38 конфет\n",
      "Будет разбито 39 конфет\n",
      "Будет разбито 40 конфет\n",
      "Будет разбита 41 конфета\n",
      "Будет разбито 42 конфеты\n",
      "Будет разбито 43 конфеты\n",
      "Будет разбито 44 конфеты\n",
      "Будет разбито 45 конфет\n",
      "Будет разбито 46 конфет\n",
      "Будет разбито 47 конфет\n",
      "Будет разбито 48 конфет\n",
      "Будет разбито 49 конфет\n",
      "Будет разбито 50 конфет\n",
      "Будет разбита 51 конфета\n",
      "Будет разбито 52 конфеты\n",
      "Будет разбито 53 конфеты\n",
      "Будет разбито 54 конфеты\n",
      "Будет разбито 55 конфет\n",
      "Будет разбито 56 конфет\n",
      "Будет разбито 57 конфет\n",
      "Будет разбито 58 конфет\n",
      "Будет разбито 59 конфет\n",
      "Будет разбито 60 конфет\n",
      "Будет разбита 61 конфета\n",
      "Будет разбито 62 конфеты\n",
      "Будет разбито 63 конфеты\n",
      "Будет разбито 64 конфеты\n",
      "Будет разбито 65 конфет\n",
      "Будет разбито 66 конфет\n",
      "Будет разбито 67 конфет\n",
      "Будет разбито 68 конфет\n",
      "Будет разбито 69 конфет\n",
      "Будет разбито 70 конфет\n",
      "Будет разбита 71 конфета\n",
      "Будет разбито 72 конфеты\n",
      "Будет разбито 73 конфеты\n",
      "Будет разбито 74 конфеты\n",
      "Будет разбито 75 конфет\n",
      "Будет разбито 76 конфет\n",
      "Будет разбито 77 конфет\n",
      "Будет разбито 78 конфет\n",
      "Будет разбито 79 конфет\n",
      "Будет разбито 80 конфет\n",
      "Будет разбита 81 конфета\n",
      "Будет разбито 82 конфеты\n",
      "Будет разбито 83 конфеты\n",
      "Будет разбито 84 конфеты\n",
      "Будет разбито 85 конфет\n",
      "Будет разбито 86 конфет\n",
      "Будет разбито 87 конфет\n",
      "Будет разбито 88 конфет\n",
      "Будет разбито 89 конфет\n",
      "Будет разбито 90 конфет\n",
      "Будет разбита 91 конфета\n",
      "Будет разбито 92 конфеты\n",
      "Будет разбито 93 конфеты\n",
      "Будет разбито 94 конфеты\n",
      "Будет разбито 95 конфет\n",
      "Будет разбито 96 конфет\n",
      "Будет разбито 97 конфет\n",
      "Будет разбито 98 конфет\n",
      "Будет разбито 99 конфет\n"
     ]
    }
   ],
   "source": [
    "def to_smash(total_candies: int, number_of_friends: int = 3) -> int:\n",
    "    \"\"\"Возвращает количество оставшихся конфет, которые должны быть разбиты после того, как\n",
    "    заданное количество конфет распределяется поровну между number_of_friends друзьями\"\"\"\n",
    "    number_of_candies_to_smash = total_candies % number_of_friends\n",
    "\n",
    "    number_of_candies_remainder = number_of_candies_to_smash % 10\n",
    "\n",
    "    if number_of_candies_remainder in [0, 5, 6, 7, 8, 9] or (11 <= number_of_candies_to_smash <= 14):\n",
    "        print(f'Будет разбито {number_of_candies_to_smash} конфет')\n",
    "    elif number_of_candies_remainder in [1]:\n",
    "        print(f'Будет разбита {number_of_candies_to_smash} конфета')\n",
    "    else:\n",
    "        print(f'Будет разбито {number_of_candies_to_smash} конфеты')\n",
    "\n",
    "    return number_of_candies_to_smash\n",
    "\n",
    "for number_of_friends in range(0, 100):\n",
    "    to_smash(number_of_friends, 102)"
   ],
   "metadata": {
    "collapsed": false,
    "pycharm": {
     "name": "#%%\n"
    }
   }
  },
  {
   "cell_type": "code",
   "execution_count": 12,
   "outputs": [],
   "source": [
    "def is_negative(number: int) -> bool:\n",
    "    if number < 0:\n",
    "        return True\n",
    "    else:\n",
    "        return False\n",
    "\n",
    "\n",
    "def concise_is_negative(number: int) -> bool:\n",
    "    return number < 0"
   ],
   "metadata": {
    "collapsed": false,
    "pycharm": {
     "name": "#%%\n"
    }
   }
  },
  {
   "cell_type": "code",
   "execution_count": 2,
   "outputs": [
    {
     "name": "stdout",
     "output_type": "stream",
     "text": [
      "True\n",
      "False\n"
     ]
    }
   ],
   "source": [
    "def wants_all_toppings(ketchup: bool, mustard: bool, onion: bool) -> bool:\n",
    "    \"\"\"Возвращает ответ на вопрос \"хочет ли клиент все три начинки?\" \"\"\"\n",
    "    return ketchup and mustard and onion\n",
    "\n",
    "\n",
    "def wants_plain_hotdog(ketchup: bool, mustard: bool, onion: bool) -> bool:\n",
    "    \"\"\"Возвращает ответ на вопрос \"хочет ли клиент хот-дог без начинок?\" \"\"\"\n",
    "    return not(ketchup and mustard and onion)\n",
    "\n",
    "def exactly_one_sauce(ketchup: bool, mustard: bool, onion: bool) -> bool:\n",
    "    \"\"\"Возвращает ответ на вопрос \"хочет ли клиент лишь один соус из двух (кетчуп/горчи\n",
    "    ца)?\"\"\"\n",
    "    return ketchup ^ mustard\n"
   ],
   "metadata": {
    "collapsed": false,
    "pycharm": {
     "name": "#%%\n"
    }
   }
  },
  {
   "cell_type": "code",
   "execution_count": 15,
   "outputs": [],
   "source": [
    "def has_lucky_number(nums: list[int]):\n",
    "    \"\"\"Возвращает, является ли данный список чисел счастливым. Счастливый список должен\n",
    "    содержать по крайней мере одно число, кратное 7\n",
    "    \"\"\"\n",
    "    for num in nums:\n",
    "        if num % 7 == 0:\n",
    "            return True\n",
    "\n",
    "    return False"
   ],
   "metadata": {
    "collapsed": false,
    "pycharm": {
     "name": "#%%\n"
    }
   }
  },
  {
   "cell_type": "code",
   "execution_count": 17,
   "outputs": [
    {
     "name": "stdout",
     "output_type": "stream",
     "text": [
      "[False, False, True, True]\n"
     ]
    }
   ],
   "source": [
    "def elementwise_greater_than(L: list[int], thresh: int) -> list[bool]:\n",
    "    \"\"\"Возвращает список той же длины, что и L, где значение в индексе i равно\n",
    "    True, если L[i] больше порогового значения, и False в противном случае \"\"\"\n",
    "    return [number > thresh for number in L]\n",
    "\n",
    "print(elementwise_greater_than([1, 2, 3, 4], 2))"
   ],
   "metadata": {
    "collapsed": false,
    "pycharm": {
     "name": "#%%\n"
    }
   }
  },
  {
   "cell_type": "code",
   "execution_count": 30,
   "outputs": [
    {
     "name": "stdout",
     "output_type": "stream",
     "text": [
      "True\n",
      "False\n"
     ]
    }
   ],
   "source": [
    "def is_valid_zip(zip_code: str) -> bool:\n",
    "    \"\"\"Проверяет индес на валидность. Будем считать, что почтовый индекс валиден, если он состоит из 6 цифр\"\"\"\n",
    "    return len(zip_code) == 6 and zip_code.isdigit()\n",
    "\n",
    "print(is_valid_zip('123456'))\n",
    "print(is_valid_zip('12345a'))"
   ],
   "metadata": {
    "collapsed": false,
    "pycharm": {
     "name": "#%%\n"
    }
   }
  },
  {
   "cell_type": "code",
   "execution_count": 35,
   "outputs": [
    {
     "name": "stdout",
     "output_type": "stream",
     "text": [
      "[1]\n"
     ]
    }
   ],
   "source": [
    "import string\n",
    "def word_search(doc_list: list[str], keyword: str) -> list[int]:\n",
    "    \"\"\"\n",
    "    Принимает список документов (каждый документ представляет собой строку) и ключевое слово.\n",
    "    Возвращает список значений индекса в исходный список для всех документов, содержащих ключевое слово.\n",
    "    \"\"\"\n",
    "    document_indexes_with_keyword = []\n",
    "\n",
    "    for index, document in enumerate(doc_list):\n",
    "        for word in document.split():\n",
    "            if keyword.lower() == word.lower().translate(str.maketrans('', '', string.punctuation)):\n",
    "                document_indexes_with_keyword.append(index)\n",
    "\n",
    "    return document_indexes_with_keyword\n",
    "\n",
    "doc_list = [\"Москит укусил туриста\", \"Кит, в Тихом океане\", \"Кот-бегемот\"]\n",
    "print(word_search(doc_list, 'кит'))"
   ],
   "metadata": {
    "collapsed": false,
    "pycharm": {
     "name": "#%%\n"
    }
   }
  }
 ],
 "metadata": {
  "kernelspec": {
   "display_name": "Python 3",
   "language": "python",
   "name": "python3"
  },
  "language_info": {
   "codemirror_mode": {
    "name": "ipython",
    "version": 2
   },
   "file_extension": ".py",
   "mimetype": "text/x-python",
   "name": "python",
   "nbconvert_exporter": "python",
   "pygments_lexer": "ipython2",
   "version": "2.7.6"
  }
 },
 "nbformat": 4,
 "nbformat_minor": 0
}